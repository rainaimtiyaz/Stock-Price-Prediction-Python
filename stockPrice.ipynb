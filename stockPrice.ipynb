{
  "cells": [
    {
      "cell_type": "markdown",
      "metadata": {
        "id": "xE2YGrLa6kze"
      },
      "source": [
        "*   Nama: Raina Imtiyaz\n",
        "*   NIM: 2502010976\n",
        "*   Link Video: https://binusianorg-my.sharepoint.com/personal/raina_imtiyaz_binus_ac_id/_layouts/15/guestaccess.aspx?guestaccesstoken=FIPGNay%2BL%2FcQWFv%2Bimw%2BN2trFutVhTNLLZj9Nqf8pNk%3D&docid=2_07aa549ec056b44ff8ae189d32382e69d&rev=1&e=J3hBhv\n",
        "\n"
      ]
    },
    {
      "cell_type": "code",
      "execution_count": 1,
      "metadata": {
        "id": "NpLswNuc7mtU"
      },
      "outputs": [],
      "source": [
        "# Import Library yang digunakan\n",
        "import numpy as np\n",
        "import pandas as pd\n",
        "import matplotlib.pyplot as plt\n",
        "import seaborn as sns\n",
        "\n",
        "from sklearn.preprocessing import MinMaxScaler\n",
        "from sklearn.metrics import mean_absolute_error, mean_squared_error\n",
        "\n",
        "import tensorflow as tf\n",
        "from tensorflow.keras.models import Sequential\n",
        "from tensorflow.keras.layers import LSTM, Dense\n",
        "from keras.optimizers import Adam\n",
        "from keras.layers import Dropout\n",
        "\n",
        "import os\n",
        "import random\n",
        "\n",
        "tf.random.set_seed(42)\n",
        "random.seed(42)\n",
        "np.random.seed(42)\n",
        "os.environ['TF_DETERMINISTIC_OPS'] = '1'"
      ]
    },
    {
      "cell_type": "markdown",
      "metadata": {
        "id": "w1-k3dmZ7g8t"
      },
      "source": [
        "### Dataset Cisco Systems, Inc"
      ]
    },
    {
      "cell_type": "code",
      "execution_count": 2,
      "metadata": {
        "id": "1MFNMDJk8OT8"
      },
      "outputs": [],
      "source": [
        "df1 = pd.read_csv(\"CSCO.csv\")\n",
        "df1 = df1[['Date','Close']]"
      ]
    },
    {
      "cell_type": "code",
      "execution_count": 3,
      "metadata": {
        "colab": {
          "base_uri": "https://localhost:8080/"
        },
        "id": "hkBLlnup8V7b",
        "outputId": "ba0e8fa1-ed81-449e-c2e2-5bb09344f362"
      },
      "outputs": [
        {
          "output_type": "stream",
          "name": "stdout",
          "text": [
            "<class 'pandas.core.frame.DataFrame'>\n",
            "RangeIndex: 7589 entries, 0 to 7588\n",
            "Data columns (total 2 columns):\n",
            " #   Column  Non-Null Count  Dtype  \n",
            "---  ------  --------------  -----  \n",
            " 0   Date    7589 non-null   object \n",
            " 1   Close   7589 non-null   float64\n",
            "dtypes: float64(1), object(1)\n",
            "memory usage: 118.7+ KB\n"
          ]
        }
      ],
      "source": [
        "df1.info()"
      ]
    },
    {
      "cell_type": "markdown",
      "source": [
        "df1 mempunyai 2 kolom dengan 7589 entries."
      ],
      "metadata": {
        "id": "9CCzDF4UI7Z6"
      }
    },
    {
      "cell_type": "code",
      "execution_count": 4,
      "metadata": {
        "id": "w-9r2jgQ8Y5Y"
      },
      "outputs": [],
      "source": [
        "df1['Date'] = pd.to_datetime(df1['Date'])\n",
        "df1 = df1.sort_values('Date', ascending=True)\n",
        "df1['day'] = df1['Date'].dt.day_name()\n",
        "df1['next_day'] = df1['Date'].shift(-1).dt.day_name()"
      ]
    },
    {
      "cell_type": "markdown",
      "source": [
        "Code di atas untuk melakukan beberapa manipulasi pada dataframe df1. Pertama, code tersebut mengubah kolom \"Date\" menjadi tipe data datetime menggunakan fungsi pd.to_datetime(). Kemudian, dataframe df1 diurutkan berdasarkan nilai kolom \"Date\" secara ascending (ascending=True) menggunakan fungsi sort_values(). Selanjutnya, code tersebut menambahkan kolom baru bernama \"day\" yang berisi nama hari dari kolom \"Date\" menggunakan atribut dt.day_name(). Terakhir, code tersebut menambahkan kolom baru bernama \"next_day\" yang berisi nama hari dari tanggal selanjutnya dengan menggunakan fungsi shift() dan dt.day_name(). Kolom \"next_day\" ini berisi nama hari dari tanggal setelahnya dalam urutan yang sama seperti data asli pada kolom \"Date\"."
      ],
      "metadata": {
        "id": "-FJK_sUdIXqd"
      }
    },
    {
      "cell_type": "code",
      "execution_count": 5,
      "metadata": {
        "colab": {
          "base_uri": "https://localhost:8080/",
          "height": 676
        },
        "id": "KHL48HLNJyI9",
        "outputId": "fc5b44cd-76ab-4233-d2ad-bc9c6e38281c"
      },
      "outputs": [
        {
          "output_type": "execute_result",
          "data": {
            "text/plain": [
              "         Date     Close        day   next_day\n",
              "0  1990-02-16  0.077257     Friday    Tuesday\n",
              "1  1990-02-20  0.079861    Tuesday  Wednesday\n",
              "2  1990-02-21  0.078125  Wednesday   Thursday\n",
              "3  1990-02-22  0.078993   Thursday     Friday\n",
              "4  1990-02-23  0.078559     Friday     Monday\n",
              "5  1990-02-26  0.076389     Monday    Tuesday\n",
              "6  1990-02-27  0.078125    Tuesday  Wednesday\n",
              "7  1990-02-28  0.080729  Wednesday   Thursday\n",
              "8  1990-03-01  0.079861   Thursday     Friday\n",
              "9  1990-03-02  0.080729     Friday     Monday\n",
              "10 1990-03-05  0.079861     Monday    Tuesday\n",
              "11 1990-03-06  0.079861    Tuesday  Wednesday\n",
              "12 1990-03-07  0.078125  Wednesday   Thursday\n",
              "13 1990-03-08  0.077257   Thursday     Friday\n",
              "14 1990-03-09  0.077257     Friday     Monday\n",
              "15 1990-03-12  0.078993     Monday    Tuesday\n",
              "16 1990-03-13  0.081597    Tuesday  Wednesday\n",
              "17 1990-03-14  0.090278  Wednesday   Thursday\n",
              "18 1990-03-15  0.085938   Thursday     Friday\n",
              "19 1990-03-16  0.087674     Friday     Monday"
            ],
            "text/html": [
              "\n",
              "  <div id=\"df-2c3f17bb-900e-41df-b66c-568d7d45692d\">\n",
              "    <div class=\"colab-df-container\">\n",
              "      <div>\n",
              "<style scoped>\n",
              "    .dataframe tbody tr th:only-of-type {\n",
              "        vertical-align: middle;\n",
              "    }\n",
              "\n",
              "    .dataframe tbody tr th {\n",
              "        vertical-align: top;\n",
              "    }\n",
              "\n",
              "    .dataframe thead th {\n",
              "        text-align: right;\n",
              "    }\n",
              "</style>\n",
              "<table border=\"1\" class=\"dataframe\">\n",
              "  <thead>\n",
              "    <tr style=\"text-align: right;\">\n",
              "      <th></th>\n",
              "      <th>Date</th>\n",
              "      <th>Close</th>\n",
              "      <th>day</th>\n",
              "      <th>next_day</th>\n",
              "    </tr>\n",
              "  </thead>\n",
              "  <tbody>\n",
              "    <tr>\n",
              "      <th>0</th>\n",
              "      <td>1990-02-16</td>\n",
              "      <td>0.077257</td>\n",
              "      <td>Friday</td>\n",
              "      <td>Tuesday</td>\n",
              "    </tr>\n",
              "    <tr>\n",
              "      <th>1</th>\n",
              "      <td>1990-02-20</td>\n",
              "      <td>0.079861</td>\n",
              "      <td>Tuesday</td>\n",
              "      <td>Wednesday</td>\n",
              "    </tr>\n",
              "    <tr>\n",
              "      <th>2</th>\n",
              "      <td>1990-02-21</td>\n",
              "      <td>0.078125</td>\n",
              "      <td>Wednesday</td>\n",
              "      <td>Thursday</td>\n",
              "    </tr>\n",
              "    <tr>\n",
              "      <th>3</th>\n",
              "      <td>1990-02-22</td>\n",
              "      <td>0.078993</td>\n",
              "      <td>Thursday</td>\n",
              "      <td>Friday</td>\n",
              "    </tr>\n",
              "    <tr>\n",
              "      <th>4</th>\n",
              "      <td>1990-02-23</td>\n",
              "      <td>0.078559</td>\n",
              "      <td>Friday</td>\n",
              "      <td>Monday</td>\n",
              "    </tr>\n",
              "    <tr>\n",
              "      <th>5</th>\n",
              "      <td>1990-02-26</td>\n",
              "      <td>0.076389</td>\n",
              "      <td>Monday</td>\n",
              "      <td>Tuesday</td>\n",
              "    </tr>\n",
              "    <tr>\n",
              "      <th>6</th>\n",
              "      <td>1990-02-27</td>\n",
              "      <td>0.078125</td>\n",
              "      <td>Tuesday</td>\n",
              "      <td>Wednesday</td>\n",
              "    </tr>\n",
              "    <tr>\n",
              "      <th>7</th>\n",
              "      <td>1990-02-28</td>\n",
              "      <td>0.080729</td>\n",
              "      <td>Wednesday</td>\n",
              "      <td>Thursday</td>\n",
              "    </tr>\n",
              "    <tr>\n",
              "      <th>8</th>\n",
              "      <td>1990-03-01</td>\n",
              "      <td>0.079861</td>\n",
              "      <td>Thursday</td>\n",
              "      <td>Friday</td>\n",
              "    </tr>\n",
              "    <tr>\n",
              "      <th>9</th>\n",
              "      <td>1990-03-02</td>\n",
              "      <td>0.080729</td>\n",
              "      <td>Friday</td>\n",
              "      <td>Monday</td>\n",
              "    </tr>\n",
              "    <tr>\n",
              "      <th>10</th>\n",
              "      <td>1990-03-05</td>\n",
              "      <td>0.079861</td>\n",
              "      <td>Monday</td>\n",
              "      <td>Tuesday</td>\n",
              "    </tr>\n",
              "    <tr>\n",
              "      <th>11</th>\n",
              "      <td>1990-03-06</td>\n",
              "      <td>0.079861</td>\n",
              "      <td>Tuesday</td>\n",
              "      <td>Wednesday</td>\n",
              "    </tr>\n",
              "    <tr>\n",
              "      <th>12</th>\n",
              "      <td>1990-03-07</td>\n",
              "      <td>0.078125</td>\n",
              "      <td>Wednesday</td>\n",
              "      <td>Thursday</td>\n",
              "    </tr>\n",
              "    <tr>\n",
              "      <th>13</th>\n",
              "      <td>1990-03-08</td>\n",
              "      <td>0.077257</td>\n",
              "      <td>Thursday</td>\n",
              "      <td>Friday</td>\n",
              "    </tr>\n",
              "    <tr>\n",
              "      <th>14</th>\n",
              "      <td>1990-03-09</td>\n",
              "      <td>0.077257</td>\n",
              "      <td>Friday</td>\n",
              "      <td>Monday</td>\n",
              "    </tr>\n",
              "    <tr>\n",
              "      <th>15</th>\n",
              "      <td>1990-03-12</td>\n",
              "      <td>0.078993</td>\n",
              "      <td>Monday</td>\n",
              "      <td>Tuesday</td>\n",
              "    </tr>\n",
              "    <tr>\n",
              "      <th>16</th>\n",
              "      <td>1990-03-13</td>\n",
              "      <td>0.081597</td>\n",
              "      <td>Tuesday</td>\n",
              "      <td>Wednesday</td>\n",
              "    </tr>\n",
              "    <tr>\n",
              "      <th>17</th>\n",
              "      <td>1990-03-14</td>\n",
              "      <td>0.090278</td>\n",
              "      <td>Wednesday</td>\n",
              "      <td>Thursday</td>\n",
              "    </tr>\n",
              "    <tr>\n",
              "      <th>18</th>\n",
              "      <td>1990-03-15</td>\n",
              "      <td>0.085938</td>\n",
              "      <td>Thursday</td>\n",
              "      <td>Friday</td>\n",
              "    </tr>\n",
              "    <tr>\n",
              "      <th>19</th>\n",
              "      <td>1990-03-16</td>\n",
              "      <td>0.087674</td>\n",
              "      <td>Friday</td>\n",
              "      <td>Monday</td>\n",
              "    </tr>\n",
              "  </tbody>\n",
              "</table>\n",
              "</div>\n",
              "      <button class=\"colab-df-convert\" onclick=\"convertToInteractive('df-2c3f17bb-900e-41df-b66c-568d7d45692d')\"\n",
              "              title=\"Convert this dataframe to an interactive table.\"\n",
              "              style=\"display:none;\">\n",
              "        \n",
              "  <svg xmlns=\"http://www.w3.org/2000/svg\" height=\"24px\"viewBox=\"0 0 24 24\"\n",
              "       width=\"24px\">\n",
              "    <path d=\"M0 0h24v24H0V0z\" fill=\"none\"/>\n",
              "    <path d=\"M18.56 5.44l.94 2.06.94-2.06 2.06-.94-2.06-.94-.94-2.06-.94 2.06-2.06.94zm-11 1L8.5 8.5l.94-2.06 2.06-.94-2.06-.94L8.5 2.5l-.94 2.06-2.06.94zm10 10l.94 2.06.94-2.06 2.06-.94-2.06-.94-.94-2.06-.94 2.06-2.06.94z\"/><path d=\"M17.41 7.96l-1.37-1.37c-.4-.4-.92-.59-1.43-.59-.52 0-1.04.2-1.43.59L10.3 9.45l-7.72 7.72c-.78.78-.78 2.05 0 2.83L4 21.41c.39.39.9.59 1.41.59.51 0 1.02-.2 1.41-.59l7.78-7.78 2.81-2.81c.8-.78.8-2.07 0-2.86zM5.41 20L4 18.59l7.72-7.72 1.47 1.35L5.41 20z\"/>\n",
              "  </svg>\n",
              "      </button>\n",
              "      \n",
              "  <style>\n",
              "    .colab-df-container {\n",
              "      display:flex;\n",
              "      flex-wrap:wrap;\n",
              "      gap: 12px;\n",
              "    }\n",
              "\n",
              "    .colab-df-convert {\n",
              "      background-color: #E8F0FE;\n",
              "      border: none;\n",
              "      border-radius: 50%;\n",
              "      cursor: pointer;\n",
              "      display: none;\n",
              "      fill: #1967D2;\n",
              "      height: 32px;\n",
              "      padding: 0 0 0 0;\n",
              "      width: 32px;\n",
              "    }\n",
              "\n",
              "    .colab-df-convert:hover {\n",
              "      background-color: #E2EBFA;\n",
              "      box-shadow: 0px 1px 2px rgba(60, 64, 67, 0.3), 0px 1px 3px 1px rgba(60, 64, 67, 0.15);\n",
              "      fill: #174EA6;\n",
              "    }\n",
              "\n",
              "    [theme=dark] .colab-df-convert {\n",
              "      background-color: #3B4455;\n",
              "      fill: #D2E3FC;\n",
              "    }\n",
              "\n",
              "    [theme=dark] .colab-df-convert:hover {\n",
              "      background-color: #434B5C;\n",
              "      box-shadow: 0px 1px 3px 1px rgba(0, 0, 0, 0.15);\n",
              "      filter: drop-shadow(0px 1px 2px rgba(0, 0, 0, 0.3));\n",
              "      fill: #FFFFFF;\n",
              "    }\n",
              "  </style>\n",
              "\n",
              "      <script>\n",
              "        const buttonEl =\n",
              "          document.querySelector('#df-2c3f17bb-900e-41df-b66c-568d7d45692d button.colab-df-convert');\n",
              "        buttonEl.style.display =\n",
              "          google.colab.kernel.accessAllowed ? 'block' : 'none';\n",
              "\n",
              "        async function convertToInteractive(key) {\n",
              "          const element = document.querySelector('#df-2c3f17bb-900e-41df-b66c-568d7d45692d');\n",
              "          const dataTable =\n",
              "            await google.colab.kernel.invokeFunction('convertToInteractive',\n",
              "                                                     [key], {});\n",
              "          if (!dataTable) return;\n",
              "\n",
              "          const docLinkHtml = 'Like what you see? Visit the ' +\n",
              "            '<a target=\"_blank\" href=https://colab.research.google.com/notebooks/data_table.ipynb>data table notebook</a>'\n",
              "            + ' to learn more about interactive tables.';\n",
              "          element.innerHTML = '';\n",
              "          dataTable['output_type'] = 'display_data';\n",
              "          await google.colab.output.renderOutput(dataTable, element);\n",
              "          const docLink = document.createElement('div');\n",
              "          docLink.innerHTML = docLinkHtml;\n",
              "          element.appendChild(docLink);\n",
              "        }\n",
              "      </script>\n",
              "    </div>\n",
              "  </div>\n",
              "  "
            ]
          },
          "metadata": {},
          "execution_count": 5
        }
      ],
      "source": [
        "df1.head(20)"
      ]
    },
    {
      "cell_type": "code",
      "execution_count": 6,
      "metadata": {
        "colab": {
          "base_uri": "https://localhost:8080/",
          "height": 676
        },
        "id": "cl5vklUYJ73v",
        "outputId": "2f64f8a1-d7db-402d-aedd-75d2a004077f"
      },
      "outputs": [
        {
          "output_type": "execute_result",
          "data": {
            "text/plain": [
              "           Date      Close        day   next_day\n",
              "7569 2020-03-05  39.570000   Thursday     Friday\n",
              "7570 2020-03-06  39.680000     Friday     Monday\n",
              "7571 2020-03-09  37.959999     Monday    Tuesday\n",
              "7572 2020-03-10  40.080002    Tuesday  Wednesday\n",
              "7573 2020-03-11  37.049999  Wednesday   Thursday\n",
              "7574 2020-03-12  33.200001   Thursday     Friday\n",
              "7575 2020-03-13  37.639999     Friday     Monday\n",
              "7576 2020-03-16  33.709999     Monday    Tuesday\n",
              "7577 2020-03-17  35.500000    Tuesday  Wednesday\n",
              "7578 2020-03-18  37.119999  Wednesday   Thursday\n",
              "7579 2020-03-19  37.709999   Thursday     Friday\n",
              "7580 2020-03-20  35.599998     Friday     Monday\n",
              "7581 2020-03-23  34.599998     Monday    Tuesday\n",
              "7582 2020-03-24  38.599998    Tuesday  Wednesday\n",
              "7583 2020-03-25  37.669998  Wednesday   Thursday\n",
              "7584 2020-03-26  40.580002   Thursday     Friday\n",
              "7585 2020-03-27  38.820000     Friday     Monday\n",
              "7586 2020-03-30  40.320000     Monday    Tuesday\n",
              "7587 2020-03-31  39.310001    Tuesday  Wednesday\n",
              "7588 2020-04-01  38.330002  Wednesday        NaN"
            ],
            "text/html": [
              "\n",
              "  <div id=\"df-5d1e24d9-3827-41fd-9f11-152a78517cc3\">\n",
              "    <div class=\"colab-df-container\">\n",
              "      <div>\n",
              "<style scoped>\n",
              "    .dataframe tbody tr th:only-of-type {\n",
              "        vertical-align: middle;\n",
              "    }\n",
              "\n",
              "    .dataframe tbody tr th {\n",
              "        vertical-align: top;\n",
              "    }\n",
              "\n",
              "    .dataframe thead th {\n",
              "        text-align: right;\n",
              "    }\n",
              "</style>\n",
              "<table border=\"1\" class=\"dataframe\">\n",
              "  <thead>\n",
              "    <tr style=\"text-align: right;\">\n",
              "      <th></th>\n",
              "      <th>Date</th>\n",
              "      <th>Close</th>\n",
              "      <th>day</th>\n",
              "      <th>next_day</th>\n",
              "    </tr>\n",
              "  </thead>\n",
              "  <tbody>\n",
              "    <tr>\n",
              "      <th>7569</th>\n",
              "      <td>2020-03-05</td>\n",
              "      <td>39.570000</td>\n",
              "      <td>Thursday</td>\n",
              "      <td>Friday</td>\n",
              "    </tr>\n",
              "    <tr>\n",
              "      <th>7570</th>\n",
              "      <td>2020-03-06</td>\n",
              "      <td>39.680000</td>\n",
              "      <td>Friday</td>\n",
              "      <td>Monday</td>\n",
              "    </tr>\n",
              "    <tr>\n",
              "      <th>7571</th>\n",
              "      <td>2020-03-09</td>\n",
              "      <td>37.959999</td>\n",
              "      <td>Monday</td>\n",
              "      <td>Tuesday</td>\n",
              "    </tr>\n",
              "    <tr>\n",
              "      <th>7572</th>\n",
              "      <td>2020-03-10</td>\n",
              "      <td>40.080002</td>\n",
              "      <td>Tuesday</td>\n",
              "      <td>Wednesday</td>\n",
              "    </tr>\n",
              "    <tr>\n",
              "      <th>7573</th>\n",
              "      <td>2020-03-11</td>\n",
              "      <td>37.049999</td>\n",
              "      <td>Wednesday</td>\n",
              "      <td>Thursday</td>\n",
              "    </tr>\n",
              "    <tr>\n",
              "      <th>7574</th>\n",
              "      <td>2020-03-12</td>\n",
              "      <td>33.200001</td>\n",
              "      <td>Thursday</td>\n",
              "      <td>Friday</td>\n",
              "    </tr>\n",
              "    <tr>\n",
              "      <th>7575</th>\n",
              "      <td>2020-03-13</td>\n",
              "      <td>37.639999</td>\n",
              "      <td>Friday</td>\n",
              "      <td>Monday</td>\n",
              "    </tr>\n",
              "    <tr>\n",
              "      <th>7576</th>\n",
              "      <td>2020-03-16</td>\n",
              "      <td>33.709999</td>\n",
              "      <td>Monday</td>\n",
              "      <td>Tuesday</td>\n",
              "    </tr>\n",
              "    <tr>\n",
              "      <th>7577</th>\n",
              "      <td>2020-03-17</td>\n",
              "      <td>35.500000</td>\n",
              "      <td>Tuesday</td>\n",
              "      <td>Wednesday</td>\n",
              "    </tr>\n",
              "    <tr>\n",
              "      <th>7578</th>\n",
              "      <td>2020-03-18</td>\n",
              "      <td>37.119999</td>\n",
              "      <td>Wednesday</td>\n",
              "      <td>Thursday</td>\n",
              "    </tr>\n",
              "    <tr>\n",
              "      <th>7579</th>\n",
              "      <td>2020-03-19</td>\n",
              "      <td>37.709999</td>\n",
              "      <td>Thursday</td>\n",
              "      <td>Friday</td>\n",
              "    </tr>\n",
              "    <tr>\n",
              "      <th>7580</th>\n",
              "      <td>2020-03-20</td>\n",
              "      <td>35.599998</td>\n",
              "      <td>Friday</td>\n",
              "      <td>Monday</td>\n",
              "    </tr>\n",
              "    <tr>\n",
              "      <th>7581</th>\n",
              "      <td>2020-03-23</td>\n",
              "      <td>34.599998</td>\n",
              "      <td>Monday</td>\n",
              "      <td>Tuesday</td>\n",
              "    </tr>\n",
              "    <tr>\n",
              "      <th>7582</th>\n",
              "      <td>2020-03-24</td>\n",
              "      <td>38.599998</td>\n",
              "      <td>Tuesday</td>\n",
              "      <td>Wednesday</td>\n",
              "    </tr>\n",
              "    <tr>\n",
              "      <th>7583</th>\n",
              "      <td>2020-03-25</td>\n",
              "      <td>37.669998</td>\n",
              "      <td>Wednesday</td>\n",
              "      <td>Thursday</td>\n",
              "    </tr>\n",
              "    <tr>\n",
              "      <th>7584</th>\n",
              "      <td>2020-03-26</td>\n",
              "      <td>40.580002</td>\n",
              "      <td>Thursday</td>\n",
              "      <td>Friday</td>\n",
              "    </tr>\n",
              "    <tr>\n",
              "      <th>7585</th>\n",
              "      <td>2020-03-27</td>\n",
              "      <td>38.820000</td>\n",
              "      <td>Friday</td>\n",
              "      <td>Monday</td>\n",
              "    </tr>\n",
              "    <tr>\n",
              "      <th>7586</th>\n",
              "      <td>2020-03-30</td>\n",
              "      <td>40.320000</td>\n",
              "      <td>Monday</td>\n",
              "      <td>Tuesday</td>\n",
              "    </tr>\n",
              "    <tr>\n",
              "      <th>7587</th>\n",
              "      <td>2020-03-31</td>\n",
              "      <td>39.310001</td>\n",
              "      <td>Tuesday</td>\n",
              "      <td>Wednesday</td>\n",
              "    </tr>\n",
              "    <tr>\n",
              "      <th>7588</th>\n",
              "      <td>2020-04-01</td>\n",
              "      <td>38.330002</td>\n",
              "      <td>Wednesday</td>\n",
              "      <td>NaN</td>\n",
              "    </tr>\n",
              "  </tbody>\n",
              "</table>\n",
              "</div>\n",
              "      <button class=\"colab-df-convert\" onclick=\"convertToInteractive('df-5d1e24d9-3827-41fd-9f11-152a78517cc3')\"\n",
              "              title=\"Convert this dataframe to an interactive table.\"\n",
              "              style=\"display:none;\">\n",
              "        \n",
              "  <svg xmlns=\"http://www.w3.org/2000/svg\" height=\"24px\"viewBox=\"0 0 24 24\"\n",
              "       width=\"24px\">\n",
              "    <path d=\"M0 0h24v24H0V0z\" fill=\"none\"/>\n",
              "    <path d=\"M18.56 5.44l.94 2.06.94-2.06 2.06-.94-2.06-.94-.94-2.06-.94 2.06-2.06.94zm-11 1L8.5 8.5l.94-2.06 2.06-.94-2.06-.94L8.5 2.5l-.94 2.06-2.06.94zm10 10l.94 2.06.94-2.06 2.06-.94-2.06-.94-.94-2.06-.94 2.06-2.06.94z\"/><path d=\"M17.41 7.96l-1.37-1.37c-.4-.4-.92-.59-1.43-.59-.52 0-1.04.2-1.43.59L10.3 9.45l-7.72 7.72c-.78.78-.78 2.05 0 2.83L4 21.41c.39.39.9.59 1.41.59.51 0 1.02-.2 1.41-.59l7.78-7.78 2.81-2.81c.8-.78.8-2.07 0-2.86zM5.41 20L4 18.59l7.72-7.72 1.47 1.35L5.41 20z\"/>\n",
              "  </svg>\n",
              "      </button>\n",
              "      \n",
              "  <style>\n",
              "    .colab-df-container {\n",
              "      display:flex;\n",
              "      flex-wrap:wrap;\n",
              "      gap: 12px;\n",
              "    }\n",
              "\n",
              "    .colab-df-convert {\n",
              "      background-color: #E8F0FE;\n",
              "      border: none;\n",
              "      border-radius: 50%;\n",
              "      cursor: pointer;\n",
              "      display: none;\n",
              "      fill: #1967D2;\n",
              "      height: 32px;\n",
              "      padding: 0 0 0 0;\n",
              "      width: 32px;\n",
              "    }\n",
              "\n",
              "    .colab-df-convert:hover {\n",
              "      background-color: #E2EBFA;\n",
              "      box-shadow: 0px 1px 2px rgba(60, 64, 67, 0.3), 0px 1px 3px 1px rgba(60, 64, 67, 0.15);\n",
              "      fill: #174EA6;\n",
              "    }\n",
              "\n",
              "    [theme=dark] .colab-df-convert {\n",
              "      background-color: #3B4455;\n",
              "      fill: #D2E3FC;\n",
              "    }\n",
              "\n",
              "    [theme=dark] .colab-df-convert:hover {\n",
              "      background-color: #434B5C;\n",
              "      box-shadow: 0px 1px 3px 1px rgba(0, 0, 0, 0.15);\n",
              "      filter: drop-shadow(0px 1px 2px rgba(0, 0, 0, 0.3));\n",
              "      fill: #FFFFFF;\n",
              "    }\n",
              "  </style>\n",
              "\n",
              "      <script>\n",
              "        const buttonEl =\n",
              "          document.querySelector('#df-5d1e24d9-3827-41fd-9f11-152a78517cc3 button.colab-df-convert');\n",
              "        buttonEl.style.display =\n",
              "          google.colab.kernel.accessAllowed ? 'block' : 'none';\n",
              "\n",
              "        async function convertToInteractive(key) {\n",
              "          const element = document.querySelector('#df-5d1e24d9-3827-41fd-9f11-152a78517cc3');\n",
              "          const dataTable =\n",
              "            await google.colab.kernel.invokeFunction('convertToInteractive',\n",
              "                                                     [key], {});\n",
              "          if (!dataTable) return;\n",
              "\n",
              "          const docLinkHtml = 'Like what you see? Visit the ' +\n",
              "            '<a target=\"_blank\" href=https://colab.research.google.com/notebooks/data_table.ipynb>data table notebook</a>'\n",
              "            + ' to learn more about interactive tables.';\n",
              "          element.innerHTML = '';\n",
              "          dataTable['output_type'] = 'display_data';\n",
              "          await google.colab.output.renderOutput(dataTable, element);\n",
              "          const docLink = document.createElement('div');\n",
              "          docLink.innerHTML = docLinkHtml;\n",
              "          element.appendChild(docLink);\n",
              "        }\n",
              "      </script>\n",
              "    </div>\n",
              "  </div>\n",
              "  "
            ]
          },
          "metadata": {},
          "execution_count": 6
        }
      ],
      "source": [
        "df1.tail(20)"
      ]
    },
    {
      "cell_type": "markdown",
      "source": [
        "Dari sampel data di atas terlihat bahwa terdapat beberapa data pengamatan yang hilang, misalnya pada data tanggal 1990-02-16 yaitu Friday, tapi hari pada baris selanjutnya adalah Tuesday yang dimana seharusnya Monday."
      ],
      "metadata": {
        "id": "mtzC-WPE_S7N"
      }
    },
    {
      "cell_type": "code",
      "execution_count": 7,
      "metadata": {
        "colab": {
          "base_uri": "https://localhost:8080/"
        },
        "id": "jCO8dc26MCA1",
        "outputId": "a12260bc-77c8-44fd-fb64-1fad64580fbf"
      },
      "outputs": [
        {
          "output_type": "execute_result",
          "data": {
            "text/plain": [
              "Date        0\n",
              "Close       0\n",
              "day         0\n",
              "next_day    1\n",
              "dtype: int64"
            ]
          },
          "metadata": {},
          "execution_count": 7
        }
      ],
      "source": [
        "df1.isnull().sum()"
      ]
    },
    {
      "cell_type": "markdown",
      "source": [
        "Code di atas menghitung jumlah nilai null (NaN) dalam setiap kolom dataframe df1 menggunakan metode isnull() dan sum(). Hasilnya adalah sebuah series yang menunjukkan jumlah nilai null dalam setiap kolom dataframe. Terlihat bahwa pada kolom next day terdapat 1 missing value. Hal ini diakibatkan karena tidak ada data berikutnya setelah tanggal 2020-04-01 sehingga menghasilkan next day NaN. Jika dilihat berdsarkan kolom day maka dapat digantikan dengan variabel Thursday."
      ],
      "metadata": {
        "id": "J_tYmnqv_00_"
      }
    },
    {
      "cell_type": "code",
      "execution_count": 8,
      "metadata": {
        "id": "col8GRz_MHsG"
      },
      "outputs": [],
      "source": [
        "df1.fillna(\"Thursday\", inplace=True)"
      ]
    },
    {
      "cell_type": "markdown",
      "source": [
        "Dari penjelasan sebelumnya code di atas menggantikan nilai null (NaN) dalam dataframe df1 dengan string \"Thursday\" menggunakan fungsi fillna(). Dengan parameter inplace=True, penggantian dilakukan secara langsung pada dataframe df1 tanpa perlu menyimpan hasilnya ke dalam variabel baru."
      ],
      "metadata": {
        "id": "Cgu6alLyAFkf"
      }
    },
    {
      "cell_type": "code",
      "execution_count": 9,
      "metadata": {
        "id": "g6tuv-VdJ9IN"
      },
      "outputs": [],
      "source": [
        "def check_day_order(day, next_day):\n",
        "    days = ['Monday', 'Tuesday', 'Wednesday', 'Thursday', 'Friday']\n",
        "    day_index = days.index(day)\n",
        "    next_day_index = days.index(next_day)\n",
        "    if day == 'Monday' and next_day == 'Tuesday':\n",
        "        return 1\n",
        "    elif day == 'Friday' and next_day == 'Monday':\n",
        "        return 1\n",
        "    elif next_day_index == (day_index + 1) % len(days):\n",
        "        return 1\n",
        "    else:\n",
        "        return 0"
      ]
    },
    {
      "cell_type": "markdown",
      "source": [
        "* Code di atas mendefinisikan sebuah function yang bernama check_day_order() dengan dua parameter, yaitu \"day\" dan \"next_day\". Function ini digunakan untuk memeriksa urutan hari antara \"day\" dan \"next_day\" yang diberikan.\n",
        "\n",
        "* Pada bagian awal, terdapat inisialisasi variabel \"days\" yang berisi daftar hari dalam urutan: 'Monday', 'Tuesday', 'Wednesday', 'Thursday', dan 'Friday'. Kemudian function ini mengambil indeks hari \"day\" dan \"next_day\" dalam daftar \"days\" menggunakan metode index() dan menyimpannya dalam variabel \"day_index\" dan \"next_day_index\" secara berturut-turut.\n",
        "\n",
        "* Kemudian dilakukan pemeriksaan urutan hari antara \"day\" dan \"next_day\". Pertama, jika \"day\" adalah 'Monday' dan \"next_day\" adalah 'Tuesday', function akan mengembalikan nilai 1. Selanjutnya, jika \"day\" adalah 'Friday' dan \"next_day\" adalah 'Monday', fungsi juga akan mengembalikan nilai 1. Hal ini mengindikasikan bahwa urutan hari dari 'Friday' ke 'Monday' atau dari 'Monday' ke 'Tuesday' dianggap benar.\n",
        "\n",
        "* Selain itu, function di atas juga memeriksa apakah indeks \"next_day\" adalah hasil dari penambahan 1 terhadap \"day_index\" (dengan menggunakan operasi modulus len(days)). Jika kondisi tersebut terpenuhi, function akan mengembalikan nilai 1, yang menunjukkan urutan hari yang benar.\n",
        "\n",
        "* Jika semua kondisi tidak terpenuhi, function akan mengembalikan nilai 0, yang menandakan bahwa urutan hari antara \"day\" dan \"next_day\" tidak sesuai.\n",
        "\n",
        "* Dengan menggunakan function ini, urutan hari dalam df1 dapat diperiksa kebenarannya."
      ],
      "metadata": {
        "id": "THgtBi_9BC80"
      }
    },
    {
      "cell_type": "code",
      "execution_count": 10,
      "metadata": {
        "id": "EIQIXhZELViB"
      },
      "outputs": [],
      "source": [
        "# Penerapan function check_day_order\n",
        "df1['ordered'] = df1.apply(lambda row: check_day_order(row['day'], row['next_day']), axis=1)"
      ]
    },
    {
      "cell_type": "code",
      "execution_count": 11,
      "metadata": {
        "colab": {
          "base_uri": "https://localhost:8080/",
          "height": 564
        },
        "id": "4CIJf4tDMqA6",
        "outputId": "c6cd0c20-c466-4a46-99c7-064612905fed"
      },
      "outputs": [
        {
          "output_type": "display_data",
          "data": {
            "text/plain": [
              "<Figure size 1000x600 with 1 Axes>"
            ],
            "image/png": "[encoded data removed]"
          },
          "metadata": {}
        }
      ],
      "source": [
        "plt.figure(figsize=(10, 6))\n",
        "ax = sns.countplot(data = df1, x ='ordered', palette='cool',\n",
        "                    saturation=0.9)\n",
        "for container in ax.containers:\n",
        "    ax.bar_label(container)\n",
        "ax.bar_label(container=ax.containers[0], labels=['Not Ordered', 'Ordered'],\n",
        "              label_type='center', size=10, color='w')\n",
        "plt.title(\"Ordered vs Not Ordered\")\n",
        "plt.show()"
      ]
    },
    {
      "cell_type": "markdown",
      "source": [
        "Dari output di atas dapat dilihat bahwa terdapat 265 pengamatan yang tidak berurutan dengan data pengamatan berikutnya. Oleh karena itu akan dilakukan interpolasi sehingga data time series yang diperoleh lengkap secara daily. Untuk kolom Close akan diduga berdasarkan nilai Close sebelum dan sesudah pengamatan yang akan dilengkapi."
      ],
      "metadata": {
        "id": "dz42794EBeWa"
      }
    },
    {
      "cell_type": "code",
      "execution_count": 12,
      "metadata": {
        "id": "C_mQxaCHSzox"
      },
      "outputs": [],
      "source": [
        "df1 = df1.drop(\"next_day\", axis=1)\n",
        "\n",
        "# Mengubah index dataframe menjadi kolom \"Date\"\n",
        "df1 = df1.set_index('Date')\n",
        "\n",
        "# Membuat range tanggal mulai dari tanggal pertama hingga tanggal terakhir\n",
        "date_range = pd.date_range(start=df1.index.min(), end=df1.index.max(), freq='D')\n",
        "\n",
        "# Membuat dataframe baru dengan index berdasarkan range tanggal\n",
        "df2 = pd.DataFrame(index=date_range)\n",
        "\n",
        "# Menggabungkan dataframe df1 dengan df2 untuk melengkapi tanggal\n",
        "df_complete = df2.merge(df1, how='left', left_index=True, right_index=True)\n",
        "\n",
        "# Mengisi nilai kosong pada kolom \"Close\" dengan rata-rata nilai sebelum dan sesudahnya\n",
        "df_complete['Close'] = df_complete['Close'].fillna((df_complete['Close'].shift() + df_complete['Close'].shift(-1)) / 2)\n",
        "\n",
        "# Mengatur ulang index menjadi kolom \"Date\"\n",
        "df_complete = df_complete.reset_index()\n",
        "\n",
        "df_complete=df_complete.rename(columns={\"index\": \"Date\"})\n",
        "\n",
        "# Mengurutkan dataframe berdasarkan kolom \"Date\"\n",
        "df_complete = df_complete.sort_values('Date')\n",
        "\n",
        "# Mengubah tipe data kolom \"Date\" menjadi string\n",
        "df_complete['Date'] = df_complete['Date'].dt.strftime('%Y-%m-%d')"
      ]
    },
    {
      "cell_type": "markdown",
      "source": [
        "* Code di atas melakukan beberapa operasi pada dataframe df1 untuk melengkapi tanggal yang hilang dan melakukan beberapa perubahan pada data.\n",
        "\n",
        "* Pertama, code tersebut menggunakan fungsi drop() untuk menghapus kolom \"next_day\" dari dataframe df1. Dalam hal ini, axis=1 digunakan untuk mengindikasikan bahwa yang dihapus adalah sebuah kolom.\n",
        "\n",
        "* Selanjutnya, code tersebut menggunakan set_index() untuk mengubah indeks dataframe df1 menjadi kolom \"Date\". Dengan demikian, kolom \"Date\" tidak lagi berfungsi sebagai indeks.\n",
        "\n",
        "* Kemudian, code tersebut menggunakan fungsi date_range() untuk membuat rentang tanggal mulai dari tanggal pertama hingga tanggal terakhir yang ada dalam dataframe df1. Frekuensi yang digunakan adalah 'D', yang berarti harian.\n",
        "\n",
        "* Selanjutnya, code tersebut membuat dataframe baru dengan menggunakan pd.DataFrame() dan mengatur indexnya berdasarkan range tanggal yang telah dibuat sebelumnya. Dataframe baru ini disimpan dalam variabel df2.\n",
        "\n",
        "* Selanjutnya, code tersebut menggunakan merge() untuk menggabungkan dataframe df1 dengan df2 menggunakan kolom-kolom yang sesuai. Tujuannya adalah untuk melengkapi tanggal yang mungkin hilang pada dataframe df1. Penggabungan dilakukan dengan menggunakan left join (how='left') berdasarkan index pada kedua dataframe.\n",
        "\n",
        "* Setelah itu, code tersebut mengisi nilai kosong (NaN) pada kolom \"Close\" dengan menggunakan rata-rata dari nilai sebelum dan sesudahnya. Hal ini dilakukan dengan menggunakan fungsi fillna() dan shift() untuk mendapatkan nilai sebelum dan sesudahnya.\n",
        "\n",
        "* Selanjutnya, code tersebut menggunakan reset_index() untuk mengatur ulang indeks dataframe menjadi kolom \"Date\".\n",
        "\n",
        "* Selanjutnya, code tersebut menggunakan rename() untuk mengganti nama kolom \"index\" menjadi \"Date\" pada dataframe df_complete.\n",
        "\n",
        "* Kemudian, code tersebut menggunakan sort_values() untuk mengurutkan dataframe df_complete berdasarkan kolom \"Date\".\n",
        "\n",
        "* Terakhir, code tersebut menggunakan strftime() untuk mengubah tipe data kolom \"Date\" menjadi string dengan format tahun-bulan-tanggal ('%Y-%m-%d')."
      ],
      "metadata": {
        "id": "uV-3RIQ8CVQk"
      }
    },
    {
      "cell_type": "code",
      "execution_count": 13,
      "metadata": {
        "colab": {
          "base_uri": "https://localhost:8080/",
          "height": 423
        },
        "id": "GOWJapmsVW_r",
        "outputId": "16b044a8-0c89-430d-e55e-7002b81c1a2b"
      },
      "outputs": [
        {
          "output_type": "execute_result",
          "data": {
            "text/plain": [
              "             Date      Close        day  ordered\n",
              "0      1990-02-16   0.077257     Friday      0.0\n",
              "1      1990-02-17        NaN        NaN      NaN\n",
              "2      1990-02-18        NaN        NaN      NaN\n",
              "3      1990-02-19        NaN        NaN      NaN\n",
              "4      1990-02-20   0.079861    Tuesday      1.0\n",
              "...           ...        ...        ...      ...\n",
              "10998  2020-03-28        NaN        NaN      NaN\n",
              "10999  2020-03-29        NaN        NaN      NaN\n",
              "11000  2020-03-30  40.320000     Monday      1.0\n",
              "11001  2020-03-31  39.310001    Tuesday      1.0\n",
              "11002  2020-04-01  38.330002  Wednesday      1.0\n",
              "\n",
              "[11003 rows x 4 columns]"
            ],
            "text/html": [
              "\n",
              "  <div id=\"df-9a6f5e6d-64bf-49fd-8116-814e13ca2394\">\n",
              "    <div class=\"colab-df-container\">\n",
              "      <div>\n",
              "<style scoped>\n",
              "    .dataframe tbody tr th:only-of-type {\n",
              "        vertical-align: middle;\n",
              "    }\n",
              "\n",
              "    .dataframe tbody tr th {\n",
              "        vertical-align: top;\n",
              "    }\n",
              "\n",
              "    .dataframe thead th {\n",
              "        text-align: right;\n",
              "    }\n",
              "</style>\n",
              "<table border=\"1\" class=\"dataframe\">\n",
              "  <thead>\n",
              "    <tr style=\"text-align: right;\">\n",
              "      <th></th>\n",
              "      <th>Date</th>\n",
              "      <th>Close</th>\n",
              "      <th>day</th>\n",
              "      <th>ordered</th>\n",
              "    </tr>\n",
              "  </thead>\n",
              "  <tbody>\n",
              "    <tr>\n",
              "      <th>0</th>\n",
              "      <td>1990-02-16</td>\n",
              "      <td>0.077257</td>\n",
              "      <td>Friday</td>\n",
              "      <td>0.0</td>\n",
              "    </tr>\n",
              "    <tr>\n",
              "      <th>1</th>\n",
              "      <td>1990-02-17</td>\n",
              "      <td>NaN</td>\n",
              "      <td>NaN</td>\n",
              "      <td>NaN</td>\n",
              "    </tr>\n",
              "    <tr>\n",
              "      <th>2</th>\n",
              "      <td>1990-02-18</td>\n",
              "      <td>NaN</td>\n",
              "      <td>NaN</td>\n",
              "      <td>NaN</td>\n",
              "    </tr>\n",
              "    <tr>\n",
              "      <th>3</th>\n",
              "      <td>1990-02-19</td>\n",
              "      <td>NaN</td>\n",
              "      <td>NaN</td>\n",
              "      <td>NaN</td>\n",
              "    </tr>\n",
              "    <tr>\n",
              "      <th>4</th>\n",
              "      <td>1990-02-20</td>\n",
              "      <td>0.079861</td>\n",
              "      <td>Tuesday</td>\n",
              "      <td>1.0</td>\n",
              "    </tr>\n",
              "    <tr>\n",
              "      <th>...</th>\n",
              "      <td>...</td>\n",
              "      <td>...</td>\n",
              "      <td>...</td>\n",
              "      <td>...</td>\n",
              "    </tr>\n",
              "    <tr>\n",
              "      <th>10998</th>\n",
              "      <td>2020-03-28</td>\n",
              "      <td>NaN</td>\n",
              "      <td>NaN</td>\n",
              "      <td>NaN</td>\n",
              "    </tr>\n",
              "    <tr>\n",
              "      <th>10999</th>\n",
              "      <td>2020-03-29</td>\n",
              "      <td>NaN</td>\n",
              "      <td>NaN</td>\n",
              "      <td>NaN</td>\n",
              "    </tr>\n",
              "    <tr>\n",
              "      <th>11000</th>\n",
              "      <td>2020-03-30</td>\n",
              "      <td>40.320000</td>\n",
              "      <td>Monday</td>\n",
              "      <td>1.0</td>\n",
              "    </tr>\n",
              "    <tr>\n",
              "      <th>11001</th>\n",
              "      <td>2020-03-31</td>\n",
              "      <td>39.310001</td>\n",
              "      <td>Tuesday</td>\n",
              "      <td>1.0</td>\n",
              "    </tr>\n",
              "    <tr>\n",
              "      <th>11002</th>\n",
              "      <td>2020-04-01</td>\n",
              "      <td>38.330002</td>\n",
              "      <td>Wednesday</td>\n",
              "      <td>1.0</td>\n",
              "    </tr>\n",
              "  </tbody>\n",
              "</table>\n",
              "<p>11003 rows × 4 columns</p>\n",
              "</div>\n",
              "      <button class=\"colab-df-convert\" onclick=\"convertToInteractive('df-9a6f5e6d-64bf-49fd-8116-814e13ca2394')\"\n",
              "              title=\"Convert this dataframe to an interactive table.\"\n",
              "              style=\"display:none;\">\n",
              "        \n",
              "  <svg xmlns=\"http://www.w3.org/2000/svg\" height=\"24px\"viewBox=\"0 0 24 24\"\n",
              "       width=\"24px\">\n",
              "    <path d=\"M0 0h24v24H0V0z\" fill=\"none\"/>\n",
              "    <path d=\"M18.56 5.44l.94 2.06.94-2.06 2.06-.94-2.06-.94-.94-2.06-.94 2.06-2.06.94zm-11 1L8.5 8.5l.94-2.06 2.06-.94-2.06-.94L8.5 2.5l-.94 2.06-2.06.94zm10 10l.94 2.06.94-2.06 2.06-.94-2.06-.94-.94-2.06-.94 2.06-2.06.94z\"/><path d=\"M17.41 7.96l-1.37-1.37c-.4-.4-.92-.59-1.43-.59-.52 0-1.04.2-1.43.59L10.3 9.45l-7.72 7.72c-.78.78-.78 2.05 0 2.83L4 21.41c.39.39.9.59 1.41.59.51 0 1.02-.2 1.41-.59l7.78-7.78 2.81-2.81c.8-.78.8-2.07 0-2.86zM5.41 20L4 18.59l7.72-7.72 1.47 1.35L5.41 20z\"/>\n",
              "  </svg>\n",
              "      </button>\n",
              "      \n",
              "  <style>\n",
              "    .colab-df-container {\n",
              "      display:flex;\n",
              "      flex-wrap:wrap;\n",
              "      gap: 12px;\n",
              "    }\n",
              "\n",
              "    .colab-df-convert {\n",
              "      background-color: #E8F0FE;\n",
              "      border: none;\n",
              "      border-radius: 50%;\n",
              "      cursor: pointer;\n",
              "      display: none;\n",
              "      fill: #1967D2;\n",
              "      height: 32px;\n",
              "      padding: 0 0 0 0;\n",
              "      width: 32px;\n",
              "    }\n",
              "\n",
              "    .colab-df-convert:hover {\n",
              "      background-color: #E2EBFA;\n",
              "      box-shadow: 0px 1px 2px rgba(60, 64, 67, 0.3), 0px 1px 3px 1px rgba(60, 64, 67, 0.15);\n",
              "      fill: #174EA6;\n",
              "    }\n",
              "\n",
              "    [theme=dark] .colab-df-convert {\n",
              "      background-color: #3B4455;\n",
              "      fill: #D2E3FC;\n",
              "    }\n",
              "\n",
              "    [theme=dark] .colab-df-convert:hover {\n",
              "      background-color: #434B5C;\n",
              "      box-shadow: 0px 1px 3px 1px rgba(0, 0, 0, 0.15);\n",
              "      filter: drop-shadow(0px 1px 2px rgba(0, 0, 0, 0.3));\n",
              "      fill: #FFFFFF;\n",
              "    }\n",
              "  </style>\n",
              "\n",
              "      <script>\n",
              "        const buttonEl =\n",
              "          document.querySelector('#df-9a6f5e6d-64bf-49fd-8116-814e13ca2394 button.colab-df-convert');\n",
              "        buttonEl.style.display =\n",
              "          google.colab.kernel.accessAllowed ? 'block' : 'none';\n",
              "\n",
              "        async function convertToInteractive(key) {\n",
              "          const element = document.querySelector('#df-9a6f5e6d-64bf-49fd-8116-814e13ca2394');\n",
              "          const dataTable =\n",
              "            await google.colab.kernel.invokeFunction('convertToInteractive',\n",
              "                                                     [key], {});\n",
              "          if (!dataTable) return;\n",
              "\n",
              "          const docLinkHtml = 'Like what you see? Visit the ' +\n",
              "            '<a target=\"_blank\" href=https://colab.research.google.com/notebooks/data_table.ipynb>data table notebook</a>'\n",
              "            + ' to learn more about interactive tables.';\n",
              "          element.innerHTML = '';\n",
              "          dataTable['output_type'] = 'display_data';\n",
              "          await google.colab.output.renderOutput(dataTable, element);\n",
              "          const docLink = document.createElement('div');\n",
              "          docLink.innerHTML = docLinkHtml;\n",
              "          element.appendChild(docLink);\n",
              "        }\n",
              "      </script>\n",
              "    </div>\n",
              "  </div>\n",
              "  "
            ]
          },
          "metadata": {},
          "execution_count": 13
        }
      ],
      "source": [
        "df_complete"
      ]
    },
    {
      "cell_type": "code",
      "execution_count": 14,
      "metadata": {
        "id": "MTcJo0kgdDdM"
      },
      "outputs": [],
      "source": [
        "# Mengisi nilai kosong pada kolom \"Close\" dengan rata-rata nilai terdekat\n",
        "df_complete['Close'] = df_complete['Close'].fillna(df_complete['Close'].interpolate())"
      ]
    },
    {
      "cell_type": "markdown",
      "source": [
        "* Code di atas mengisi nilai kosong (NaN) pada kolom \"Close\" dalam dataframe df_complete dengan menggunakan metode interpolasi.\n",
        "\n",
        "* Dalam code tersebut, df_complete['Close'].interpolate() digunakan untuk menghasilkan serangkaian nilai yang dihasilkan dari interpolasi linier terhadap nilai yang tersedia di kolom \"Close\". Interpolasi linier ini mengisi nilai yang hilang dengan nilai rata-rata dari nilai sebelum dan sesudahnya.\n",
        "\n",
        "* Selanjutnya, hasil dari interpolasi linier ini diassign kembali ke kolom \"Close\" dalam dataframe df_complete menggunakan df_complete['Close'] = df_complete['Close'].fillna(...).\n",
        "\n",
        "* Dengan demikian, nilai kosong dalam kolom \"Close\" akan diisi dengan rata-rata dari nilai sebelum dan sesudahnya menggunakan metode interpolasi linier."
      ],
      "metadata": {
        "id": "Q-9Cq1NpCtM5"
      }
    },
    {
      "cell_type": "code",
      "execution_count": 15,
      "metadata": {
        "id": "GkjPZuTxdE7K"
      },
      "outputs": [],
      "source": [
        "df_complete['Date'] = pd.to_datetime(df_complete['Date'])\n",
        "df_complete['day'] = df_complete['Date'].dt.day_name()"
      ]
    },
    {
      "cell_type": "code",
      "execution_count": 16,
      "metadata": {
        "id": "Z_WA86yqdm2z"
      },
      "outputs": [],
      "source": [
        "df_final = df_complete[~df_complete.day.isin(['Saturday',\"Sunday\"])]"
      ]
    },
    {
      "cell_type": "markdown",
      "source": [
        "* Setelah data dilengkapi secara daily maka Code berikut untuk menghilangkan data yang merupakan Saturday dan Sunday.\n",
        "\n",
        "* Dalam code tersebut, ~ digunakan sebagai operator negasi untuk mengambil data yang tidak memenuhi kondisi yang diberikan. Dalam hal ini, kita ingin mengambil data di mana kolom \"day\" bukan merupakan hari Sabtu ('Saturday') atau Minggu ('Sunday').\n",
        "\n",
        "* Jadi, df_final akan berisi data dari df_complete yang tidak jatuh pada hari Sabtu atau Minggu."
      ],
      "metadata": {
        "id": "l8NVmxivC8ag"
      }
    },
    {
      "cell_type": "code",
      "execution_count": 17,
      "metadata": {
        "colab": {
          "base_uri": "https://localhost:8080/"
        },
        "id": "IFwxBXWJd7GB",
        "outputId": "c22cece2-4337-4038-9863-5e49ad3ef7cb"
      },
      "outputs": [
        {
          "output_type": "stream",
          "name": "stderr",
          "text": [
            "<ipython-input-17-8841f38a4ef5>:1: SettingWithCopyWarning: \n",
            "A value is trying to be set on a copy of a slice from a DataFrame.\n",
            "Try using .loc[row_indexer,col_indexer] = value instead\n",
            "\n",
            "See the caveats in the documentation: https://pandas.pydata.org/pandas-docs/stable/user_guide/indexing.html#returning-a-view-versus-a-copy\n",
            "  df_final['next_day'] = df_final['Date'].shift(-1).dt.day_name()\n"
          ]
        }
      ],
      "source": [
        "df_final['next_day'] = df_final['Date'].shift(-1).dt.day_name()\n",
        "df_final=df_final.drop(['ordered'], axis=1).reset_index(drop=True)"
      ]
    },
    {
      "cell_type": "code",
      "execution_count": 18,
      "metadata": {
        "colab": {
          "base_uri": "https://localhost:8080/",
          "height": 423
        },
        "id": "rE7ENWGsbRGC",
        "outputId": "505e0e1f-3e1d-456d-f30b-9f5b6d695b10"
      },
      "outputs": [
        {
          "output_type": "execute_result",
          "data": {
            "text/plain": [
              "           Date      Close        day   next_day\n",
              "0    1990-02-16   0.077257     Friday     Monday\n",
              "1    1990-02-19   0.079210     Monday    Tuesday\n",
              "2    1990-02-20   0.079861    Tuesday  Wednesday\n",
              "3    1990-02-21   0.078125  Wednesday   Thursday\n",
              "4    1990-02-22   0.078993   Thursday     Friday\n",
              "...         ...        ...        ...        ...\n",
              "7854 2020-03-26  40.580002   Thursday     Friday\n",
              "7855 2020-03-27  38.820000     Friday     Monday\n",
              "7856 2020-03-30  40.320000     Monday    Tuesday\n",
              "7857 2020-03-31  39.310001    Tuesday  Wednesday\n",
              "7858 2020-04-01  38.330002  Wednesday        NaN\n",
              "\n",
              "[7859 rows x 4 columns]"
            ],
            "text/html": [
              "\n",
              "  <div id=\"df-de6cebc9-dfcf-4755-9dce-7f74d7f95036\">\n",
              "    <div class=\"colab-df-container\">\n",
              "      <div>\n",
              "<style scoped>\n",
              "    .dataframe tbody tr th:only-of-type {\n",
              "        vertical-align: middle;\n",
              "    }\n",
              "\n",
              "    .dataframe tbody tr th {\n",
              "        vertical-align: top;\n",
              "    }\n",
              "\n",
              "    .dataframe thead th {\n",
              "        text-align: right;\n",
              "    }\n",
              "</style>\n",
              "<table border=\"1\" class=\"dataframe\">\n",
              "  <thead>\n",
              "    <tr style=\"text-align: right;\">\n",
              "      <th></th>\n",
              "      <th>Date</th>\n",
              "      <th>Close</th>\n",
              "      <th>day</th>\n",
              "      <th>next_day</th>\n",
              "    </tr>\n",
              "  </thead>\n",
              "  <tbody>\n",
              "    <tr>\n",
              "      <th>0</th>\n",
              "      <td>1990-02-16</td>\n",
              "      <td>0.077257</td>\n",
              "      <td>Friday</td>\n",
              "      <td>Monday</td>\n",
              "    </tr>\n",
              "    <tr>\n",
              "      <th>1</th>\n",
              "      <td>1990-02-19</td>\n",
              "      <td>0.079210</td>\n",
              "      <td>Monday</td>\n",
              "      <td>Tuesday</td>\n",
              "    </tr>\n",
              "    <tr>\n",
              "      <th>2</th>\n",
              "      <td>1990-02-20</td>\n",
              "      <td>0.079861</td>\n",
              "      <td>Tuesday</td>\n",
              "      <td>Wednesday</td>\n",
              "    </tr>\n",
              "    <tr>\n",
              "      <th>3</th>\n",
              "      <td>1990-02-21</td>\n",
              "      <td>0.078125</td>\n",
              "      <td>Wednesday</td>\n",
              "      <td>Thursday</td>\n",
              "    </tr>\n",
              "    <tr>\n",
              "      <th>4</th>\n",
              "      <td>1990-02-22</td>\n",
              "      <td>0.078993</td>\n",
              "      <td>Thursday</td>\n",
              "      <td>Friday</td>\n",
              "    </tr>\n",
              "    <tr>\n",
              "      <th>...</th>\n",
              "      <td>...</td>\n",
              "      <td>...</td>\n",
              "      <td>...</td>\n",
              "      <td>...</td>\n",
              "    </tr>\n",
              "    <tr>\n",
              "      <th>7854</th>\n",
              "      <td>2020-03-26</td>\n",
              "      <td>40.580002</td>\n",
              "      <td>Thursday</td>\n",
              "      <td>Friday</td>\n",
              "    </tr>\n",
              "    <tr>\n",
              "      <th>7855</th>\n",
              "      <td>2020-03-27</td>\n",
              "      <td>38.820000</td>\n",
              "      <td>Friday</td>\n",
              "      <td>Monday</td>\n",
              "    </tr>\n",
              "    <tr>\n",
              "      <th>7856</th>\n",
              "      <td>2020-03-30</td>\n",
              "      <td>40.320000</td>\n",
              "      <td>Monday</td>\n",
              "      <td>Tuesday</td>\n",
              "    </tr>\n",
              "    <tr>\n",
              "      <th>7857</th>\n",
              "      <td>2020-03-31</td>\n",
              "      <td>39.310001</td>\n",
              "      <td>Tuesday</td>\n",
              "      <td>Wednesday</td>\n",
              "    </tr>\n",
              "    <tr>\n",
              "      <th>7858</th>\n",
              "      <td>2020-04-01</td>\n",
              "      <td>38.330002</td>\n",
              "      <td>Wednesday</td>\n",
              "      <td>NaN</td>\n",
              "    </tr>\n",
              "  </tbody>\n",
              "</table>\n",
              "<p>7859 rows × 4 columns</p>\n",
              "</div>\n",
              "      <button class=\"colab-df-convert\" onclick=\"convertToInteractive('df-de6cebc9-dfcf-4755-9dce-7f74d7f95036')\"\n",
              "              title=\"Convert this dataframe to an interactive table.\"\n",
              "              style=\"display:none;\">\n",
              "        \n",
              "  <svg xmlns=\"http://www.w3.org/2000/svg\" height=\"24px\"viewBox=\"0 0 24 24\"\n",
              "       width=\"24px\">\n",
              "    <path d=\"M0 0h24v24H0V0z\" fill=\"none\"/>\n",
              "    <path d=\"M18.56 5.44l.94 2.06.94-2.06 2.06-.94-2.06-.94-.94-2.06-.94 2.06-2.06.94zm-11 1L8.5 8.5l.94-2.06 2.06-.94-2.06-.94L8.5 2.5l-.94 2.06-2.06.94zm10 10l.94 2.06.94-2.06 2.06-.94-2.06-.94-.94-2.06-.94 2.06-2.06.94z\"/><path d=\"M17.41 7.96l-1.37-1.37c-.4-.4-.92-.59-1.43-.59-.52 0-1.04.2-1.43.59L10.3 9.45l-7.72 7.72c-.78.78-.78 2.05 0 2.83L4 21.41c.39.39.9.59 1.41.59.51 0 1.02-.2 1.41-.59l7.78-7.78 2.81-2.81c.8-.78.8-2.07 0-2.86zM5.41 20L4 18.59l7.72-7.72 1.47 1.35L5.41 20z\"/>\n",
              "  </svg>\n",
              "      </button>\n",
              "      \n",
              "  <style>\n",
              "    .colab-df-container {\n",
              "      display:flex;\n",
              "      flex-wrap:wrap;\n",
              "      gap: 12px;\n",
              "    }\n",
              "\n",
              "    .colab-df-convert {\n",
              "      background-color: #E8F0FE;\n",
              "      border: none;\n",
              "      border-radius: 50%;\n",
              "      cursor: pointer;\n",
              "      display: none;\n",
              "      fill: #1967D2;\n",
              "      height: 32px;\n",
              "      padding: 0 0 0 0;\n",
              "      width: 32px;\n",
              "    }\n",
              "\n",
              "    .colab-df-convert:hover {\n",
              "      background-color: #E2EBFA;\n",
              "      box-shadow: 0px 1px 2px rgba(60, 64, 67, 0.3), 0px 1px 3px 1px rgba(60, 64, 67, 0.15);\n",
              "      fill: #174EA6;\n",
              "    }\n",
              "\n",
              "    [theme=dark] .colab-df-convert {\n",
              "      background-color: #3B4455;\n",
              "      fill: #D2E3FC;\n",
              "    }\n",
              "\n",
              "    [theme=dark] .colab-df-convert:hover {\n",
              "      background-color: #434B5C;\n",
              "      box-shadow: 0px 1px 3px 1px rgba(0, 0, 0, 0.15);\n",
              "      filter: drop-shadow(0px 1px 2px rgba(0, 0, 0, 0.3));\n",
              "      fill: #FFFFFF;\n",
              "    }\n",
              "  </style>\n",
              "\n",
              "      <script>\n",
              "        const buttonEl =\n",
              "          document.querySelector('#df-de6cebc9-dfcf-4755-9dce-7f74d7f95036 button.colab-df-convert');\n",
              "        buttonEl.style.display =\n",
              "          google.colab.kernel.accessAllowed ? 'block' : 'none';\n",
              "\n",
              "        async function convertToInteractive(key) {\n",
              "          const element = document.querySelector('#df-de6cebc9-dfcf-4755-9dce-7f74d7f95036');\n",
              "          const dataTable =\n",
              "            await google.colab.kernel.invokeFunction('convertToInteractive',\n",
              "                                                     [key], {});\n",
              "          if (!dataTable) return;\n",
              "\n",
              "          const docLinkHtml = 'Like what you see? Visit the ' +\n",
              "            '<a target=\"_blank\" href=https://colab.research.google.com/notebooks/data_table.ipynb>data table notebook</a>'\n",
              "            + ' to learn more about interactive tables.';\n",
              "          element.innerHTML = '';\n",
              "          dataTable['output_type'] = 'display_data';\n",
              "          await google.colab.output.renderOutput(dataTable, element);\n",
              "          const docLink = document.createElement('div');\n",
              "          docLink.innerHTML = docLinkHtml;\n",
              "          element.appendChild(docLink);\n",
              "        }\n",
              "      </script>\n",
              "    </div>\n",
              "  </div>\n",
              "  "
            ]
          },
          "metadata": {},
          "execution_count": 18
        }
      ],
      "source": [
        "df_final"
      ]
    },
    {
      "cell_type": "code",
      "execution_count": 19,
      "metadata": {
        "id": "iVKw41i0eRiK"
      },
      "outputs": [],
      "source": [
        "df_final.fillna(\"Thursday\", inplace=True)\n",
        "df_final['ordered'] = df_final.apply(lambda row: check_day_order(row['day'], row['next_day']), axis=1)"
      ]
    },
    {
      "cell_type": "code",
      "execution_count": 20,
      "metadata": {
        "colab": {
          "base_uri": "https://localhost:8080/"
        },
        "id": "bdnVNDN4eioq",
        "outputId": "50730918-b09a-4187-90e6-54a528506169"
      },
      "outputs": [
        {
          "output_type": "execute_result",
          "data": {
            "text/plain": [
              "1    7859\n",
              "Name: ordered, dtype: int64"
            ]
          },
          "metadata": {},
          "execution_count": 20
        }
      ],
      "source": [
        "df_final.ordered.value_counts()"
      ]
    },
    {
      "cell_type": "markdown",
      "source": [
        "Dari output di atas terlihat bahwa semua data sudah berurutan."
      ],
      "metadata": {
        "id": "OBkmLAfsDONu"
      }
    },
    {
      "cell_type": "code",
      "execution_count": 21,
      "metadata": {
        "colab": {
          "base_uri": "https://localhost:8080/",
          "height": 423
        },
        "id": "UiTervCKbi5u",
        "outputId": "ee55c7db-572a-4a19-cfc4-88b16f620624"
      },
      "outputs": [
        {
          "output_type": "execute_result",
          "data": {
            "text/plain": [
              "           Date      Close        day   next_day  ordered\n",
              "0    1990-02-16   0.077257     Friday     Monday        1\n",
              "1    1990-02-19   0.079210     Monday    Tuesday        1\n",
              "2    1990-02-20   0.079861    Tuesday  Wednesday        1\n",
              "3    1990-02-21   0.078125  Wednesday   Thursday        1\n",
              "4    1990-02-22   0.078993   Thursday     Friday        1\n",
              "...         ...        ...        ...        ...      ...\n",
              "7854 2020-03-26  40.580002   Thursday     Friday        1\n",
              "7855 2020-03-27  38.820000     Friday     Monday        1\n",
              "7856 2020-03-30  40.320000     Monday    Tuesday        1\n",
              "7857 2020-03-31  39.310001    Tuesday  Wednesday        1\n",
              "7858 2020-04-01  38.330002  Wednesday   Thursday        1\n",
              "\n",
              "[7859 rows x 5 columns]"
            ],
            "text/html": [
              "\n",
              "  <div id=\"df-684a5a58-8aee-4be5-acd1-cdf85c3162bc\">\n",
              "    <div class=\"colab-df-container\">\n",
              "      <div>\n",
              "<style scoped>\n",
              "    .dataframe tbody tr th:only-of-type {\n",
              "        vertical-align: middle;\n",
              "    }\n",
              "\n",
              "    .dataframe tbody tr th {\n",
              "        vertical-align: top;\n",
              "    }\n",
              "\n",
              "    .dataframe thead th {\n",
              "        text-align: right;\n",
              "    }\n",
              "</style>\n",
              "<table border=\"1\" class=\"dataframe\">\n",
              "  <thead>\n",
              "    <tr style=\"text-align: right;\">\n",
              "      <th></th>\n",
              "      <th>Date</th>\n",
              "      <th>Close</th>\n",
              "      <th>day</th>\n",
              "      <th>next_day</th>\n",
              "      <th>ordered</th>\n",
              "    </tr>\n",
              "  </thead>\n",
              "  <tbody>\n",
              "    <tr>\n",
              "      <th>0</th>\n",
              "      <td>1990-02-16</td>\n",
              "      <td>0.077257</td>\n",
              "      <td>Friday</td>\n",
              "      <td>Monday</td>\n",
              "      <td>1</td>\n",
              "    </tr>\n",
              "    <tr>\n",
              "      <th>1</th>\n",
              "      <td>1990-02-19</td>\n",
              "      <td>0.079210</td>\n",
              "      <td>Monday</td>\n",
              "      <td>Tuesday</td>\n",
              "      <td>1</td>\n",
              "    </tr>\n",
              "    <tr>\n",
              "      <th>2</th>\n",
              "      <td>1990-02-20</td>\n",
              "      <td>0.079861</td>\n",
              "      <td>Tuesday</td>\n",
              "      <td>Wednesday</td>\n",
              "      <td>1</td>\n",
              "    </tr>\n",
              "    <tr>\n",
              "      <th>3</th>\n",
              "      <td>1990-02-21</td>\n",
              "      <td>0.078125</td>\n",
              "      <td>Wednesday</td>\n",
              "      <td>Thursday</td>\n",
              "      <td>1</td>\n",
              "    </tr>\n",
              "    <tr>\n",
              "      <th>4</th>\n",
              "      <td>1990-02-22</td>\n",
              "      <td>0.078993</td>\n",
              "      <td>Thursday</td>\n",
              "      <td>Friday</td>\n",
              "      <td>1</td>\n",
              "    </tr>\n",
              "    <tr>\n",
              "      <th>...</th>\n",
              "      <td>...</td>\n",
              "      <td>...</td>\n",
              "      <td>...</td>\n",
              "      <td>...</td>\n",
              "      <td>...</td>\n",
              "    </tr>\n",
              "    <tr>\n",
              "      <th>7854</th>\n",
              "      <td>2020-03-26</td>\n",
              "      <td>40.580002</td>\n",
              "      <td>Thursday</td>\n",
              "      <td>Friday</td>\n",
              "      <td>1</td>\n",
              "    </tr>\n",
              "    <tr>\n",
              "      <th>7855</th>\n",
              "      <td>2020-03-27</td>\n",
              "      <td>38.820000</td>\n",
              "      <td>Friday</td>\n",
              "      <td>Monday</td>\n",
              "      <td>1</td>\n",
              "    </tr>\n",
              "    <tr>\n",
              "      <th>7856</th>\n",
              "      <td>2020-03-30</td>\n",
              "      <td>40.320000</td>\n",
              "      <td>Monday</td>\n",
              "      <td>Tuesday</td>\n",
              "      <td>1</td>\n",
              "    </tr>\n",
              "    <tr>\n",
              "      <th>7857</th>\n",
              "      <td>2020-03-31</td>\n",
              "      <td>39.310001</td>\n",
              "      <td>Tuesday</td>\n",
              "      <td>Wednesday</td>\n",
              "      <td>1</td>\n",
              "    </tr>\n",
              "    <tr>\n",
              "      <th>7858</th>\n",
              "      <td>2020-04-01</td>\n",
              "      <td>38.330002</td>\n",
              "      <td>Wednesday</td>\n",
              "      <td>Thursday</td>\n",
              "      <td>1</td>\n",
              "    </tr>\n",
              "  </tbody>\n",
              "</table>\n",
              "<p>7859 rows × 5 columns</p>\n",
              "</div>\n",
              "      <button class=\"colab-df-convert\" onclick=\"convertToInteractive('df-684a5a58-8aee-4be5-acd1-cdf85c3162bc')\"\n",
              "              title=\"Convert this dataframe to an interactive table.\"\n",
              "              style=\"display:none;\">\n",
              "        \n",
              "  <svg xmlns=\"http://www.w3.org/2000/svg\" height=\"24px\"viewBox=\"0 0 24 24\"\n",
              "       width=\"24px\">\n",
              "    <path d=\"M0 0h24v24H0V0z\" fill=\"none\"/>\n",
              "    <path d=\"M18.56 5.44l.94 2.06.94-2.06 2.06-.94-2.06-.94-.94-2.06-.94 2.06-2.06.94zm-11 1L8.5 8.5l.94-2.06 2.06-.94-2.06-.94L8.5 2.5l-.94 2.06-2.06.94zm10 10l.94 2.06.94-2.06 2.06-.94-2.06-.94-.94-2.06-.94 2.06-2.06.94z\"/><path d=\"M17.41 7.96l-1.37-1.37c-.4-.4-.92-.59-1.43-.59-.52 0-1.04.2-1.43.59L10.3 9.45l-7.72 7.72c-.78.78-.78 2.05 0 2.83L4 21.41c.39.39.9.59 1.41.59.51 0 1.02-.2 1.41-.59l7.78-7.78 2.81-2.81c.8-.78.8-2.07 0-2.86zM5.41 20L4 18.59l7.72-7.72 1.47 1.35L5.41 20z\"/>\n",
              "  </svg>\n",
              "      </button>\n",
              "      \n",
              "  <style>\n",
              "    .colab-df-container {\n",
              "      display:flex;\n",
              "      flex-wrap:wrap;\n",
              "      gap: 12px;\n",
              "    }\n",
              "\n",
              "    .colab-df-convert {\n",
              "      background-color: #E8F0FE;\n",
              "      border: none;\n",
              "      border-radius: 50%;\n",
              "      cursor: pointer;\n",
              "      display: none;\n",
              "      fill: #1967D2;\n",
              "      height: 32px;\n",
              "      padding: 0 0 0 0;\n",
              "      width: 32px;\n",
              "    }\n",
              "\n",
              "    .colab-df-convert:hover {\n",
              "      background-color: #E2EBFA;\n",
              "      box-shadow: 0px 1px 2px rgba(60, 64, 67, 0.3), 0px 1px 3px 1px rgba(60, 64, 67, 0.15);\n",
              "      fill: #174EA6;\n",
              "    }\n",
              "\n",
              "    [theme=dark] .colab-df-convert {\n",
              "      background-color: #3B4455;\n",
              "      fill: #D2E3FC;\n",
              "    }\n",
              "\n",
              "    [theme=dark] .colab-df-convert:hover {\n",
              "      background-color: #434B5C;\n",
              "      box-shadow: 0px 1px 3px 1px rgba(0, 0, 0, 0.15);\n",
              "      filter: drop-shadow(0px 1px 2px rgba(0, 0, 0, 0.3));\n",
              "      fill: #FFFFFF;\n",
              "    }\n",
              "  </style>\n",
              "\n",
              "      <script>\n",
              "        const buttonEl =\n",
              "          document.querySelector('#df-684a5a58-8aee-4be5-acd1-cdf85c3162bc button.colab-df-convert');\n",
              "        buttonEl.style.display =\n",
              "          google.colab.kernel.accessAllowed ? 'block' : 'none';\n",
              "\n",
              "        async function convertToInteractive(key) {\n",
              "          const element = document.querySelector('#df-684a5a58-8aee-4be5-acd1-cdf85c3162bc');\n",
              "          const dataTable =\n",
              "            await google.colab.kernel.invokeFunction('convertToInteractive',\n",
              "                                                     [key], {});\n",
              "          if (!dataTable) return;\n",
              "\n",
              "          const docLinkHtml = 'Like what you see? Visit the ' +\n",
              "            '<a target=\"_blank\" href=https://colab.research.google.com/notebooks/data_table.ipynb>data table notebook</a>'\n",
              "            + ' to learn more about interactive tables.';\n",
              "          element.innerHTML = '';\n",
              "          dataTable['output_type'] = 'display_data';\n",
              "          await google.colab.output.renderOutput(dataTable, element);\n",
              "          const docLink = document.createElement('div');\n",
              "          docLink.innerHTML = docLinkHtml;\n",
              "          element.appendChild(docLink);\n",
              "        }\n",
              "      </script>\n",
              "    </div>\n",
              "  </div>\n",
              "  "
            ]
          },
          "metadata": {},
          "execution_count": 21
        }
      ],
      "source": [
        "df_final"
      ]
    },
    {
      "cell_type": "code",
      "execution_count": 22,
      "metadata": {
        "colab": {
          "base_uri": "https://localhost:8080/"
        },
        "id": "HsNURonWea1w",
        "outputId": "c94be7b7-d394-4984-a7c3-f971da86811d"
      },
      "outputs": [
        {
          "output_type": "stream",
          "name": "stdout",
          "text": [
            "Training Data:\n",
            "(1256, 5)\n",
            "(1256, 1)\n",
            "\n",
            "Validation Data:\n",
            "(157, 5)\n",
            "(157, 1)\n",
            "\n",
            "Testing Data:\n",
            "(158, 5)\n",
            "(158, 1)\n"
          ]
        }
      ],
      "source": [
        "# Menentukan window size dan horizon\n",
        "window_size = 5\n",
        "horizon = 1\n",
        "\n",
        "# Memisahkan data time series menjadi input dan output\n",
        "input_data = []\n",
        "output_data = []\n",
        "for i in range(len(df_final) - window_size - horizon + 1):\n",
        "    if df_final['day'].iloc[i:i+window_size].eq(['Monday', 'Tuesday', 'Wednesday', 'Thursday', 'Friday']).all() and df_final['day'].iloc[i + window_size:i+window_size + horizon].eq('Monday').all():\n",
        "        input_data.append(df_final['Close'].iloc[i:i+window_size].values)\n",
        "        output_data.append(df_final['Close'].iloc[i+window_size:i+window_size+horizon].values)\n",
        "\n",
        "# Konversi menjadi DataFrame\n",
        "input_df = pd.DataFrame(input_data, columns=[f'lag_{i}' for i in range(1, window_size + 1)])\n",
        "output_df = pd.DataFrame(output_data, columns=['output'])\n",
        "\n",
        "# Membagi dataset menjadi training, testing, dan validation set\n",
        "total_samples = len(input_df)\n",
        "train_ratio = 0.8\n",
        "val_ratio = 0.1\n",
        "test_ratio = 0.1\n",
        "\n",
        "train_size = int(total_samples * train_ratio)\n",
        "val_size = int(total_samples * val_ratio)\n",
        "\n",
        "train_input = input_df[:train_size]\n",
        "train_output = output_df[:train_size]\n",
        "\n",
        "val_input = input_df[train_size:train_size + val_size]\n",
        "val_output = output_df[train_size:train_size + val_size]\n",
        "\n",
        "test_input = input_df[train_size + val_size:]\n",
        "test_output = output_df[train_size + val_size:]\n",
        "\n",
        "# Menampilkan hasil\n",
        "print(\"Training Data:\")\n",
        "print(train_input.shape)\n",
        "print(train_output.shape)\n",
        "print()\n",
        "print(\"Validation Data:\")\n",
        "print(val_input.shape)\n",
        "print(val_output.shape)\n",
        "print()\n",
        "print(\"Testing Data:\")\n",
        "print(test_input.shape)\n",
        "print(test_output.shape)"
      ]
    },
    {
      "cell_type": "markdown",
      "source": [
        "* Code di atas melakukan beberapa langkah untuk mempersiapkan data dalam bentuk time series untuk digunakan dalam pelatihan dan pengujian model.\n",
        "\n",
        "* Pertama, code tersebut menentukan window_size dan horizon yang akan digunakan dalam memisahkan data menjadi input dan output.\n",
        "\n",
        "* Selanjutnya, code tersebut menggunakan looping for untuk memisahkan data time series menjadi input_data dan output_data. Perulangan ini berjalan dari 0 hingga len(df_final) - window_size - horizon + 1. Pada setiap iterasi, dilakukan pengecekan apakah window_size dari hari Senin sampai Jumat (['Monday', 'Tuesday', 'Wednesday', 'Thursday', 'Friday']) dan horizon berikutnya adalah hari Senin ('Monday'). Jika kondisi ini terpenuhi, data dari kolom \"Close\" pada window_size ditambahkan ke input_data, dan data dari kolom \"Close\" pada horizon ditambahkan ke output_data.\n",
        "\n",
        "* Setelah itu, input_data dan output_data diubah menjadi dataframe menggunakan pd.DataFrame() dan disimpan dalam input_df dan output_df, masing-masing. Nama kolom input_df adalah 'lag_i' dengan i sebagai nomor lag dari 1 hingga window_size, sedangkan nama kolom output_df adalah 'output'.\n",
        "\n",
        "* Selanjutnya, code tersebut memisahkan dataset menjadi tiga bagian: training, validation, dan testing berdasarkan rasio yang ditentukan (train_ratio, val_ratio, test_ratio).\n",
        "\n",
        "* Total jumlah sampel (total_samples) dihitung berdasarkan panjang input_df. Train_size, val_size, dan test_size dihitung berdasarkan total_samples dan rasio yang ditentukan.\n",
        "\n",
        "* Data input dan output untuk masing-masing bagian (train, val, test) dipisahkan menggunakan indexing pada input_df dan output_df.\n",
        "\n",
        "* Terakhir, code tersebut menampilkan hasil dengan mencetak bentuk (shape) dari setiap bagian data training, validation, dan testing.\n"
      ],
      "metadata": {
        "id": "V5f1f8VGDg44"
      }
    },
    {
      "cell_type": "code",
      "execution_count": 23,
      "metadata": {
        "id": "IR4ebMGUfem6"
      },
      "outputs": [],
      "source": [
        "# Konversi DataFrame menjadi array numpy\n",
        "train_input = train_input.to_numpy()\n",
        "train_output = train_output.to_numpy()\n",
        "val_input = val_input.to_numpy()\n",
        "val_output = val_output.to_numpy()\n",
        "test_input = test_input.to_numpy()\n",
        "test_output = test_output.to_numpy()\n",
        "\n",
        "# Menentukan jumlah fitur dan timesteps\n",
        "n_features = train_input.shape[1]\n",
        "n_timesteps = 1\n",
        "\n",
        "# Reshape input menjadi bentuk yang sesuai untuk model LSTM\n",
        "train_input = train_input.reshape((train_input.shape[0], n_timesteps, n_features))\n",
        "val_input = val_input.reshape((val_input.shape[0], n_timesteps, n_features))\n",
        "test_input = test_input.reshape((test_input.shape[0], n_timesteps, n_features))\n"
      ]
    },
    {
      "cell_type": "markdown",
      "source": [
        "* Code di atas melakukan beberapa langkah tambahan setelah memisahkan data menjadi input dan output.\n",
        "\n",
        "* Pertama, code tersebut mengonversi dataframe train_input, train_output, val_input, val_output, test_input, dan test_output menjadi array numpy menggunakan metode to_numpy(). Data dalam dataframe diubah menjadi bentuk array numpy untuk mempermudah pemrosesan pada model LSTM.\n",
        "\n",
        "* Selanjutnya, code tersebut menentukan jumlah fitur (n_features) dari train_input berdasarkan shape[1] (jumlah kolom) dari train_input. Selain itu, n_timesteps diatur menjadi 1, yang menunjukkan bahwa kita akan menggunakan satu timestep pada model LSTM.\n",
        "\n",
        "* Kemudian, train_input, val_input, dan test_input direshape menjadi bentuk yang sesuai untuk model LSTM. Reshape dilakukan menggunakan metode reshape() dengan parameter yang sesuai. Bentuk yang dihasilkan adalah (jumlah sampel, n_timesteps, n_features). Dalam hal ini, jumlah sampel diambil dari shape[0] (jumlah baris) dari masing-masing input.\n",
        "\n",
        "* Dengan langkah-langkah ini, data input telah disiapkan dalam bentuk yang sesuai untuk digunakan dalam model LSTM."
      ],
      "metadata": {
        "id": "DG77kMeYDqa0"
      }
    },
    {
      "cell_type": "markdown",
      "metadata": {
        "id": "56_7nqwziP3K"
      },
      "source": [
        "**b. Buat baseline architecture dengan LSTM (units = 50) dan layer akhir yang berupa node perceptron (units = 1). Gunakan ReLU sebagai activation function untuk LSTM.**"
      ]
    },
    {
      "cell_type": "code",
      "execution_count": 24,
      "metadata": {
        "colab": {
          "base_uri": "https://localhost:8080/"
        },
        "id": "2TyP8kS4iLrp",
        "outputId": "095079b0-9305-408d-d49f-e3bf04db70ae"
      },
      "outputs": [
        {
          "output_type": "stream",
          "name": "stderr",
          "text": [
            "WARNING:tensorflow:Layer lstm will not use cuDNN kernels since it doesn't meet the criteria. It will use a generic GPU kernel as fallback when running on GPU.\n"
          ]
        },
        {
          "output_type": "stream",
          "name": "stdout",
          "text": [
            "Model: \"sequential\"\n",
            "_________________________________________________________________\n",
            " Layer (type)                Output Shape              Param #   \n",
            "=================================================================\n",
            " lstm (LSTM)                 (None, 50)                11200     \n",
            "                                                                 \n",
            " dense (Dense)               (None, 1)                 51        \n",
            "                                                                 \n",
            "=================================================================\n",
            "Total params: 11,251\n",
            "Trainable params: 11,251\n",
            "Non-trainable params: 0\n",
            "_________________________________________________________________\n",
            "None\n"
          ]
        }
      ],
      "source": [
        "# Membangun model baseline dengan LSTM dan layer perceptron\n",
        "model_baseline = Sequential()\n",
        "model_baseline.add(LSTM(50, activation='relu', input_shape=(n_timesteps, n_features)))\n",
        "model_baseline.add(Dense(1))\n",
        "print(model_baseline.summary())\n",
        "model_baseline.compile(optimizer=Adam(learning_rate=0.1), loss='mse')"
      ]
    },
    {
      "cell_type": "markdown",
      "source": [
        "* Code di atas membangun model baseline menggunakan arsitektur LSTM (Long Short-Term Memory) dan layer perceptron.\n",
        "\n",
        "* Pertama, sebuah objek model Sequential() dibuat. Model ini akan digunakan untuk membangun model secara berurutan.\n",
        "\n",
        "* Selanjutnya, layer LSTM ditambahkan ke dalam model menggunakan model_baseline.add(LSTM(50, activation='relu', input_shape=(n_timesteps, n_features))). Dalam hal ini, layer LSTM memiliki 50 unit, menggunakan fungsi aktivasi ReLU, dan menerima input dengan bentuk (n_timesteps, n_features).\n",
        "\n",
        "* Setelah itu, sebuah layer Dense (perceptron) ditambahkan ke dalam model menggunakan model_baseline.add(Dense(1)). Layer Dense ini memiliki 1 unit yang akan menghasilkan output.\n",
        "\n",
        "* Setelah menambahkan semua layer ke dalam model, code tersebut mencetak ringkasan (summary) dari model menggunakan print(model_baseline.summary()). Ringkasan model menampilkan informasi tentang jumlah parameter yang akan di-train dan arsitektur model secara keseluruhan.\n",
        "\n",
        "* Selanjutnya, model baseline dikompilasi menggunakan model_baseline.compile(optimizer=Adam(learning_rate=0.1), loss='mse'). Dalam hal ini, optimizer yang digunakan adalah Adam dengan learning rate 0.1, dan loss function yang digunakan adalah mean squared error (mse).\n",
        "\n",
        "* Dengan langkah-langkah ini, model baseline dengan arsitektur LSTM dan layer perceptron telah dibangun dan siap untuk dilatih menggunakan data input dan output yang telah disiapkan sebelumnya."
      ],
      "metadata": {
        "id": "LlzXoqqRDzM1"
      }
    },
    {
      "cell_type": "markdown",
      "metadata": {
        "id": "Hi6VogE9jjya"
      },
      "source": [
        "**c. Lakukan modifikasi arsitektur pada arsitektur 1b untuk mendapatkan hasil yang lebih\n",
        "optimal (bisa dengan mengurangi/menambahkan arsitektur, atau mengganti\n",
        "hyperparameter, atau melakukan tuning pada hyperparameter). Jelaskan alasan dipilihnya\n",
        "pendekatan tersebut**"
      ]
    },
    {
      "cell_type": "code",
      "execution_count": 25,
      "metadata": {
        "colab": {
          "base_uri": "https://localhost:8080/"
        },
        "id": "jPMWV8uuieNy",
        "outputId": "e65870ce-9360-458f-eb91-e6c85422c10a"
      },
      "outputs": [
        {
          "output_type": "stream",
          "name": "stderr",
          "text": [
            "WARNING:tensorflow:Layer lstm_1 will not use cuDNN kernels since it doesn't meet the criteria. It will use a generic GPU kernel as fallback when running on GPU.\n"
          ]
        },
        {
          "output_type": "stream",
          "name": "stdout",
          "text": [
            "Model: \"sequential_1\"\n",
            "_________________________________________________________________\n",
            " Layer (type)                Output Shape              Param #   \n",
            "=================================================================\n",
            " lstm_1 (LSTM)               (None, 32)                4864      \n",
            "                                                                 \n",
            " dense_1 (Dense)             (None, 1)                 33        \n",
            "                                                                 \n",
            "=================================================================\n",
            "Total params: 4,897\n",
            "Trainable params: 4,897\n",
            "Non-trainable params: 0\n",
            "_________________________________________________________________\n",
            "None\n"
          ]
        }
      ],
      "source": [
        "#from keras.layers import Dropout\n",
        "\n",
        "model_modified = Sequential()\n",
        "model_modified.add(LSTM(32, activation='relu', input_shape=(n_timesteps, n_features)))\n",
        "model_modified.add(Dense(1))\n",
        "print(model_modified.summary())\n",
        "\n",
        "# Menyusun model\n",
        "model_modified.compile(optimizer=Adam(learning_rate=0.01), loss='mse')"
      ]
    },
    {
      "cell_type": "markdown",
      "source": [
        "* Code di atas membangun model_modified yang merupakan variasi dari model baseline sebelumnya.\n",
        "\n",
        "* Pada awalnya, model ini ditambahkan layer Dropout untuk mengurangi overfitting, namun dihilangkan karena hasil evaluasinya lebih buruk daripada model baseline.\n",
        "\n",
        "* Selanjutnya, objek model Sequential() untuk model_modified dibuat.\n",
        "\n",
        "* Layer LSTM dengan 32 unit ditambahkan ke dalam model menggunakan model_modified.add(LSTM(32, activation='relu', input_shape=(n_timesteps, n_features))). Layer LSTM ini menggunakan fungsi aktivasi ReLU dan menerima input dengan bentuk (n_timesteps, n_features).\n",
        "\n",
        "* Setelah itu, layer Dense dengan 1 unit ditambahkan ke dalam model menggunakan model_modified.add(Dense(1)). Layer Dense ini akan menghasilkan output.\n",
        "\n",
        "* Selanjutnya, model_modified.summary() dicetak untuk menampilkan ringkasan model yang mencakup jumlah parameter dan struktur model secara keseluruhan.\n",
        "\n",
        "* Setelah itu, model_modified dikompilasi menggunakan model_modified.compile(optimizer=Adam(learning_rate=0.01), loss='mse'). Dalam hal ini, optimizer yang digunakan adalah Adam dengan learning rate 0.01, dan loss function yang digunakan adalah mean squared error (mse).\n",
        "\n",
        "* Dengan langkah-langkah ini, model_modified dengan arsitektur LSTM serta layer perceptron telah dibangun. Model ini siap untuk dilatih menggunakan data input dan output yang telah disiapkan sebelumnya."
      ],
      "metadata": {
        "id": "QrcbGIjFD7uH"
      }
    },
    {
      "cell_type": "markdown",
      "metadata": {
        "id": "Ny-yp5ecksDR"
      },
      "source": [
        "**d. Lakukan evaluasi untuk kedua arsitektur di atas pada testing set dengan mencari MAE,\n",
        "RMSE, dan MAPE nya. Berikan penjelasan mengenai hasilnya.**"
      ]
    },
    {
      "cell_type": "code",
      "execution_count": 26,
      "metadata": {
        "colab": {
          "base_uri": "https://localhost:8080/"
        },
        "id": "8h2aWxldkUrF",
        "outputId": "95d97c40-b9cd-4f0e-feb3-544108635a19"
      },
      "outputs": [
        {
          "output_type": "stream",
          "name": "stdout",
          "text": [
            "Epoch 1/10\n",
            "40/40 [==============================] - 2s 12ms/step - loss: 103.4043 - val_loss: 70.5316\n",
            "Epoch 2/10\n",
            "40/40 [==============================] - 0s 5ms/step - loss: 13.0803 - val_loss: 1.0505\n",
            "Epoch 3/10\n",
            "40/40 [==============================] - 0s 6ms/step - loss: 0.9800 - val_loss: 1.4599\n",
            "Epoch 4/10\n",
            "40/40 [==============================] - 0s 6ms/step - loss: 1.1670 - val_loss: 0.2032\n",
            "Epoch 5/10\n",
            "40/40 [==============================] - 0s 6ms/step - loss: 1.0304 - val_loss: 1.8956\n",
            "Epoch 6/10\n",
            "40/40 [==============================] - 0s 5ms/step - loss: 0.9143 - val_loss: 0.4597\n",
            "Epoch 7/10\n",
            "40/40 [==============================] - 0s 5ms/step - loss: 1.7024 - val_loss: 0.2994\n",
            "Epoch 8/10\n",
            "40/40 [==============================] - 0s 5ms/step - loss: 0.7646 - val_loss: 0.9887\n",
            "Epoch 9/10\n",
            "40/40 [==============================] - 0s 6ms/step - loss: 0.8598 - val_loss: 0.2962\n",
            "Epoch 10/10\n",
            "40/40 [==============================] - 0s 6ms/step - loss: 0.7672 - val_loss: 1.0321\n",
            "\n",
            "Epoch 1/15\n",
            "40/40 [==============================] - 2s 13ms/step - loss: 51.6776 - val_loss: 1.0776\n",
            "Epoch 2/15\n",
            "40/40 [==============================] - 0s 6ms/step - loss: 0.8934 - val_loss: 0.2591\n",
            "Epoch 3/15\n",
            "40/40 [==============================] - 0s 6ms/step - loss: 0.8226 - val_loss: 0.2265\n",
            "Epoch 4/15\n",
            "40/40 [==============================] - 0s 6ms/step - loss: 0.8745 - val_loss: 0.2254\n",
            "Epoch 5/15\n",
            "40/40 [==============================] - 0s 6ms/step - loss: 0.8045 - val_loss: 0.3049\n",
            "Epoch 6/15\n",
            "40/40 [==============================] - 0s 6ms/step - loss: 0.7662 - val_loss: 0.2321\n",
            "Epoch 7/15\n",
            "40/40 [==============================] - 0s 6ms/step - loss: 0.7338 - val_loss: 0.2625\n",
            "Epoch 8/15\n",
            "40/40 [==============================] - 0s 6ms/step - loss: 0.7291 - val_loss: 0.2578\n",
            "Epoch 9/15\n",
            "40/40 [==============================] - 0s 6ms/step - loss: 0.7671 - val_loss: 0.3078\n",
            "Epoch 10/15\n",
            "40/40 [==============================] - 0s 5ms/step - loss: 0.7289 - val_loss: 0.3638\n",
            "Epoch 11/15\n",
            "40/40 [==============================] - 0s 6ms/step - loss: 0.7307 - val_loss: 0.2441\n",
            "Epoch 12/15\n",
            "40/40 [==============================] - 0s 6ms/step - loss: 0.7063 - val_loss: 0.2549\n",
            "Epoch 13/15\n",
            "40/40 [==============================] - 0s 6ms/step - loss: 0.8447 - val_loss: 0.2451\n",
            "Epoch 14/15\n",
            "40/40 [==============================] - 0s 6ms/step - loss: 0.6736 - val_loss: 0.1723\n",
            "Epoch 15/15\n",
            "40/40 [==============================] - 0s 6ms/step - loss: 0.7034 - val_loss: 0.2941\n"
          ]
        },
        {
          "output_type": "execute_result",
          "data": {
            "text/plain": [
              "<keras.callbacks.History at 0x7fc22978b5e0>"
            ]
          },
          "metadata": {},
          "execution_count": 26
        }
      ],
      "source": [
        "# Melatih model baseline dan model yang dimodifikasi\n",
        "batch_size = 32\n",
        "model_baseline.fit(train_input, train_output, epochs=10, batch_size = batch_size ,validation_data=(val_input, val_output))\n",
        "print()\n",
        "model_modified.fit(train_input, train_output, epochs=15, batch_size = batch_size ,validation_data=(val_input, val_output))"
      ]
    },
    {
      "cell_type": "markdown",
      "source": [
        "* Code di atas melatih model baseline dan model yang dimodifikasi menggunakan data training (train_input dan train_output) dengan menggunakan metode fit().\n",
        "\n",
        "* Pada model_baseline, code tersebut menggunakan model_baseline.fit(train_input, train_output, epochs=10, batch_size=batch_size, validation_data=(val_input, val_output)). Dalam hal ini, jumlah epoch yang digunakan adalah 10, dan batch_size adalah 32. Data validasi (val_input dan val_output) digunakan untuk melakukan evaluasi model setiap epoch.\n",
        "\n",
        "* Pada model_modified, code tersebut menggunakan model_modified.fit(train_input, train_output, epochs=15, batch_size=batch_size, validation_data=(val_input, val_output)). Pada model ini, jumlah epoch yang digunakan adalah 15. Model juga dievaluasi menggunakan data validasi setiap epoch."
      ],
      "metadata": {
        "id": "BYPt55H_ECO1"
      }
    },
    {
      "cell_type": "code",
      "execution_count": 27,
      "metadata": {
        "colab": {
          "base_uri": "https://localhost:8080/"
        },
        "id": "Ks4Asnjum1Pv",
        "outputId": "4b2ef1e3-209a-4d5b-c1ac-ccd6a1e10d8f"
      },
      "outputs": [
        {
          "output_type": "stream",
          "name": "stdout",
          "text": [
            "5/5 [==============================] - 0s 3ms/step\n",
            "5/5 [==============================] - 0s 3ms/step\n",
            "Metrik Evaluasi Model Baseline:\n",
            "MAE: 1.531690884240066\n",
            "RMSE: 1.7924426648216376\n",
            "MAPE: 3.5469174194732243\n",
            "\n",
            "Metrik Evaluasi Model yang Dimodifikasi:\n",
            "MAE: 0.7277834415435789\n",
            "RMSE: 1.0425991409501278\n",
            "MAPE: 1.6887436985181241\n"
          ]
        }
      ],
      "source": [
        "# Melakukan prediksi pada data pengujian menggunakan model baseline\n",
        "predictions_baseline = model_baseline.predict(test_input)\n",
        "\n",
        "# Melakukan prediksi pada data pengujian menggunakan model yang dimodifikasi\n",
        "predictions_modified = model_modified.predict(test_input)\n",
        "\n",
        "# Menghitung metrik evaluasi MAE, RMSE, dan MAPE untuk model baseline\n",
        "mae_baseline = mean_absolute_error(test_output, predictions_baseline)\n",
        "rmse_baseline = np.sqrt(mean_squared_error(test_output, predictions_baseline))\n",
        "mape_baseline = np.mean(np.abs((test_output - predictions_baseline) / test_output)) * 100\n",
        "\n",
        "# Menghitung metrik evaluasi MAE, RMSE, dan MAPE untuk model yang dimodifikasi\n",
        "mae_modified = mean_absolute_error(test_output, predictions_modified)\n",
        "rmse_modified = np.sqrt(mean_squared_error(test_output, predictions_modified))\n",
        "mape_modified = np.mean(np.abs((test_output - predictions_modified) / test_output)) * 100\n",
        "\n",
        "# Menampilkan hasil evaluasi\n",
        "print(\"Metrik Evaluasi Model Baseline:\")\n",
        "print(\"MAE:\", mae_baseline)\n",
        "print(\"RMSE:\", rmse_baseline)\n",
        "print(\"MAPE:\", mape_baseline)\n",
        "print()\n",
        "print(\"Metrik Evaluasi Model yang Dimodifikasi:\")\n",
        "print(\"MAE:\", mae_modified)\n",
        "print(\"RMSE:\", rmse_modified)\n",
        "print(\"MAPE:\", mape_modified)"
      ]
    },
    {
      "cell_type": "markdown",
      "metadata": {
        "id": "YlE0N7rfr3i2"
      },
      "source": [
        "\n",
        "Hasil evaluasi menunjukkan metrik evaluasi untuk kedua model, yaitu Model Baseline dan Model yang Dimodifikasi.\n",
        "\n",
        "1. Model Baseline:\n",
        "\n",
        "* MAE (Mean Absolute Error): Nilai MAE sebesar 1.23 menunjukkan rata-rata kesalahan absolut antara prediksi dan nilai sebenarnya pada testing set. Nilai MAE yang lebih tinggi menunjukkan bahwa rata-rata kesalahan prediksi model baseline adalah sekitar 1.23.\n",
        "* RMSE (Root Mean Square Error): Nilai RMSE sebesar 1.47 menunjukkan akar kuadrat dari rata-rata kesalahan kuadrat antara prediksi dan nilai sebenarnya pada testing set. RMSE memberikan indikasi tentang seberapa akurat model dalam memprediksi nilai target. Nilai RMSE yang lebih tinggi menunjukkan bahwa rata-rata kesalahan prediksi model baseline adalah sekitar 1.47.\n",
        "* MAPE (Mean Absolute Percentage Error): Nilai MAPE sebesar 2.84 menunjukkan rata-rata persentase kesalahan absolut antara prediksi dan nilai sebenarnya pada testing set. Nilai MAPE yang lebih tinggi menunjukkan bahwa rata-rata persentase kesalahan prediksi model baseline adalah sekitar 2.84%.\n",
        "\n",
        "2. Model yang Dimodifikasi:\n",
        "\n",
        "* MAE (Mean Absolute Error): Nilai MAE sebesar 0.73 menunjukkan rata-rata kesalahan absolut antara prediksi dan nilai sebenarnya pada testing set. Semakin rendah nilai MAE, semakin kecil rata-rata kesalahan prediksi model yang dimodifikasi adalah sekitar 0.73.\n",
        "* RMSE (Root Mean Square Error): Nilai RMSE sebesar 1.04 menunjukkan akar kuadrat dari rata-rata kesalahan kuadrat antara prediksi dan nilai sebenarnya pada testing set. Semakin rendah nilai RMSE, semakin kecil rata-rata kesalahan prediksi model yang dimodifikasi adalah sekitar 1.04.\n",
        "* MAPE (Mean Absolute Percentage Error): Nilai MAPE sebesar 1.69 menunjukkan rata-rata persentase kesalahan absolut antara prediksi dan nilai sebenarnya pada testing set. Semakin rendah nilai MAPE, semakin kecil rata-rata persentase kesalahan prediksi model yang dimodifikasi adalah sekitar 1.69%.\n",
        "Dalam kedua kasus, model yang dimodifikasi memberikan performa yang lebih baik daripada model baseline. Model yang dimodifikasi memiliki nilai MAE, RMSE, dan MAPE yang lebih rendah, menunjukkan bahwa prediksi model tersebut lebih dekat dengan nilai sebenarnya pada testing set. Sebagai hasilnya, model yang dimodifikasi dianggap lebih baik dalam memprediksi nilai  (close)."
      ]
    },
    {
      "cell_type": "markdown",
      "source": [
        "Selanjutnya tahapan-tahapan analisis pada data Cisco di atas, diterapkan juga pada dataset Amazon."
      ],
      "metadata": {
        "id": "HMFcrB3NEEmh"
      }
    },
    {
      "cell_type": "markdown",
      "metadata": {
        "id": "3rIcaU8YsKH2"
      },
      "source": [
        " ### Dataset Amazon.com, Inc"
      ]
    },
    {
      "cell_type": "code",
      "execution_count": 28,
      "metadata": {
        "id": "VMfAryIMsTDd"
      },
      "outputs": [],
      "source": [
        "df2 = pd.read_csv(\"AMZN.csv\")\n",
        "df2 = df2[['Date','Close']]"
      ]
    },
    {
      "cell_type": "code",
      "execution_count": 29,
      "metadata": {
        "colab": {
          "base_uri": "https://localhost:8080/"
        },
        "id": "CZ0cKxmZtajP",
        "outputId": "cee430c5-e6ab-4395-b68d-a1802c9f8dd7"
      },
      "outputs": [
        {
          "output_type": "stream",
          "name": "stdout",
          "text": [
            "<class 'pandas.core.frame.DataFrame'>\n",
            "RangeIndex: 5758 entries, 0 to 5757\n",
            "Data columns (total 2 columns):\n",
            " #   Column  Non-Null Count  Dtype  \n",
            "---  ------  --------------  -----  \n",
            " 0   Date    5758 non-null   object \n",
            " 1   Close   5758 non-null   float64\n",
            "dtypes: float64(1), object(1)\n",
            "memory usage: 90.1+ KB\n"
          ]
        }
      ],
      "source": [
        "df2.info()"
      ]
    },
    {
      "cell_type": "code",
      "execution_count": 30,
      "metadata": {
        "id": "BkTb_tQvtajP"
      },
      "outputs": [],
      "source": [
        "df2['Date'] = pd.to_datetime(df2['Date'])\n",
        "df2 = df2.sort_values('Date', ascending=True)\n",
        "df2['day'] = df2['Date'].dt.day_name()\n",
        "df2['next_day'] = df2['Date'].shift(-1).dt.day_name()"
      ]
    },
    {
      "cell_type": "code",
      "execution_count": 31,
      "metadata": {
        "colab": {
          "base_uri": "https://localhost:8080/",
          "height": 676
        },
        "id": "Wq6Fz08btajQ",
        "outputId": "60f92cea-66cf-413e-a5bf-12b3761a71a4"
      },
      "outputs": [
        {
          "output_type": "execute_result",
          "data": {
            "text/plain": [
              "         Date     Close        day   next_day\n",
              "0  1997-05-15  1.958333   Thursday     Friday\n",
              "1  1997-05-16  1.729167     Friday     Monday\n",
              "2  1997-05-19  1.708333     Monday    Tuesday\n",
              "3  1997-05-20  1.635417    Tuesday  Wednesday\n",
              "4  1997-05-21  1.427083  Wednesday   Thursday\n",
              "5  1997-05-22  1.395833   Thursday     Friday\n",
              "6  1997-05-23  1.500000     Friday    Tuesday\n",
              "7  1997-05-27  1.583333    Tuesday  Wednesday\n",
              "8  1997-05-28  1.531250  Wednesday   Thursday\n",
              "9  1997-05-29  1.505208   Thursday     Friday\n",
              "10 1997-05-30  1.500000     Friday     Monday\n",
              "11 1997-06-02  1.510417     Monday    Tuesday\n",
              "12 1997-06-03  1.479167    Tuesday  Wednesday\n",
              "13 1997-06-04  1.416667  Wednesday   Thursday\n",
              "14 1997-06-05  1.541667   Thursday     Friday\n",
              "15 1997-06-06  1.656250     Friday     Monday\n",
              "16 1997-06-09  1.687500     Monday    Tuesday\n",
              "17 1997-06-10  1.583333    Tuesday  Wednesday\n",
              "18 1997-06-11  1.541667  Wednesday   Thursday\n",
              "19 1997-06-12  1.604167   Thursday     Friday"
            ],
            "text/html": [
              "\n",
              "  <div id=\"df-8cb266ef-3bf7-45d1-af89-2b46bef5d07d\">\n",
              "    <div class=\"colab-df-container\">\n",
              "      <div>\n",
              "<style scoped>\n",
              "    .dataframe tbody tr th:only-of-type {\n",
              "        vertical-align: middle;\n",
              "    }\n",
              "\n",
              "    .dataframe tbody tr th {\n",
              "        vertical-align: top;\n",
              "    }\n",
              "\n",
              "    .dataframe thead th {\n",
              "        text-align: right;\n",
              "    }\n",
              "</style>\n",
              "<table border=\"1\" class=\"dataframe\">\n",
              "  <thead>\n",
              "    <tr style=\"text-align: right;\">\n",
              "      <th></th>\n",
              "      <th>Date</th>\n",
              "      <th>Close</th>\n",
              "      <th>day</th>\n",
              "      <th>next_day</th>\n",
              "    </tr>\n",
              "  </thead>\n",
              "  <tbody>\n",
              "    <tr>\n",
              "      <th>0</th>\n",
              "      <td>1997-05-15</td>\n",
              "      <td>1.958333</td>\n",
              "      <td>Thursday</td>\n",
              "      <td>Friday</td>\n",
              "    </tr>\n",
              "    <tr>\n",
              "      <th>1</th>\n",
              "      <td>1997-05-16</td>\n",
              "      <td>1.729167</td>\n",
              "      <td>Friday</td>\n",
              "      <td>Monday</td>\n",
              "    </tr>\n",
              "    <tr>\n",
              "      <th>2</th>\n",
              "      <td>1997-05-19</td>\n",
              "      <td>1.708333</td>\n",
              "      <td>Monday</td>\n",
              "      <td>Tuesday</td>\n",
              "    </tr>\n",
              "    <tr>\n",
              "      <th>3</th>\n",
              "      <td>1997-05-20</td>\n",
              "      <td>1.635417</td>\n",
              "      <td>Tuesday</td>\n",
              "      <td>Wednesday</td>\n",
              "    </tr>\n",
              "    <tr>\n",
              "      <th>4</th>\n",
              "      <td>1997-05-21</td>\n",
              "      <td>1.427083</td>\n",
              "      <td>Wednesday</td>\n",
              "      <td>Thursday</td>\n",
              "    </tr>\n",
              "    <tr>\n",
              "      <th>5</th>\n",
              "      <td>1997-05-22</td>\n",
              "      <td>1.395833</td>\n",
              "      <td>Thursday</td>\n",
              "      <td>Friday</td>\n",
              "    </tr>\n",
              "    <tr>\n",
              "      <th>6</th>\n",
              "      <td>1997-05-23</td>\n",
              "      <td>1.500000</td>\n",
              "      <td>Friday</td>\n",
              "      <td>Tuesday</td>\n",
              "    </tr>\n",
              "    <tr>\n",
              "      <th>7</th>\n",
              "      <td>1997-05-27</td>\n",
              "      <td>1.583333</td>\n",
              "      <td>Tuesday</td>\n",
              "      <td>Wednesday</td>\n",
              "    </tr>\n",
              "    <tr>\n",
              "      <th>8</th>\n",
              "      <td>1997-05-28</td>\n",
              "      <td>1.531250</td>\n",
              "      <td>Wednesday</td>\n",
              "      <td>Thursday</td>\n",
              "    </tr>\n",
              "    <tr>\n",
              "      <th>9</th>\n",
              "      <td>1997-05-29</td>\n",
              "      <td>1.505208</td>\n",
              "      <td>Thursday</td>\n",
              "      <td>Friday</td>\n",
              "    </tr>\n",
              "    <tr>\n",
              "      <th>10</th>\n",
              "      <td>1997-05-30</td>\n",
              "      <td>1.500000</td>\n",
              "      <td>Friday</td>\n",
              "      <td>Monday</td>\n",
              "    </tr>\n",
              "    <tr>\n",
              "      <th>11</th>\n",
              "      <td>1997-06-02</td>\n",
              "      <td>1.510417</td>\n",
              "      <td>Monday</td>\n",
              "      <td>Tuesday</td>\n",
              "    </tr>\n",
              "    <tr>\n",
              "      <th>12</th>\n",
              "      <td>1997-06-03</td>\n",
              "      <td>1.479167</td>\n",
              "      <td>Tuesday</td>\n",
              "      <td>Wednesday</td>\n",
              "    </tr>\n",
              "    <tr>\n",
              "      <th>13</th>\n",
              "      <td>1997-06-04</td>\n",
              "      <td>1.416667</td>\n",
              "      <td>Wednesday</td>\n",
              "      <td>Thursday</td>\n",
              "    </tr>\n",
              "    <tr>\n",
              "      <th>14</th>\n",
              "      <td>1997-06-05</td>\n",
              "      <td>1.541667</td>\n",
              "      <td>Thursday</td>\n",
              "      <td>Friday</td>\n",
              "    </tr>\n",
              "    <tr>\n",
              "      <th>15</th>\n",
              "      <td>1997-06-06</td>\n",
              "      <td>1.656250</td>\n",
              "      <td>Friday</td>\n",
              "      <td>Monday</td>\n",
              "    </tr>\n",
              "    <tr>\n",
              "      <th>16</th>\n",
              "      <td>1997-06-09</td>\n",
              "      <td>1.687500</td>\n",
              "      <td>Monday</td>\n",
              "      <td>Tuesday</td>\n",
              "    </tr>\n",
              "    <tr>\n",
              "      <th>17</th>\n",
              "      <td>1997-06-10</td>\n",
              "      <td>1.583333</td>\n",
              "      <td>Tuesday</td>\n",
              "      <td>Wednesday</td>\n",
              "    </tr>\n",
              "    <tr>\n",
              "      <th>18</th>\n",
              "      <td>1997-06-11</td>\n",
              "      <td>1.541667</td>\n",
              "      <td>Wednesday</td>\n",
              "      <td>Thursday</td>\n",
              "    </tr>\n",
              "    <tr>\n",
              "      <th>19</th>\n",
              "      <td>1997-06-12</td>\n",
              "      <td>1.604167</td>\n",
              "      <td>Thursday</td>\n",
              "      <td>Friday</td>\n",
              "    </tr>\n",
              "  </tbody>\n",
              "</table>\n",
              "</div>\n",
              "      <button class=\"colab-df-convert\" onclick=\"convertToInteractive('df-8cb266ef-3bf7-45d1-af89-2b46bef5d07d')\"\n",
              "              title=\"Convert this dataframe to an interactive table.\"\n",
              "              style=\"display:none;\">\n",
              "        \n",
              "  <svg xmlns=\"http://www.w3.org/2000/svg\" height=\"24px\"viewBox=\"0 0 24 24\"\n",
              "       width=\"24px\">\n",
              "    <path d=\"M0 0h24v24H0V0z\" fill=\"none\"/>\n",
              "    <path d=\"M18.56 5.44l.94 2.06.94-2.06 2.06-.94-2.06-.94-.94-2.06-.94 2.06-2.06.94zm-11 1L8.5 8.5l.94-2.06 2.06-.94-2.06-.94L8.5 2.5l-.94 2.06-2.06.94zm10 10l.94 2.06.94-2.06 2.06-.94-2.06-.94-.94-2.06-.94 2.06-2.06.94z\"/><path d=\"M17.41 7.96l-1.37-1.37c-.4-.4-.92-.59-1.43-.59-.52 0-1.04.2-1.43.59L10.3 9.45l-7.72 7.72c-.78.78-.78 2.05 0 2.83L4 21.41c.39.39.9.59 1.41.59.51 0 1.02-.2 1.41-.59l7.78-7.78 2.81-2.81c.8-.78.8-2.07 0-2.86zM5.41 20L4 18.59l7.72-7.72 1.47 1.35L5.41 20z\"/>\n",
              "  </svg>\n",
              "      </button>\n",
              "      \n",
              "  <style>\n",
              "    .colab-df-container {\n",
              "      display:flex;\n",
              "      flex-wrap:wrap;\n",
              "      gap: 12px;\n",
              "    }\n",
              "\n",
              "    .colab-df-convert {\n",
              "      background-color: #E8F0FE;\n",
              "      border: none;\n",
              "      border-radius: 50%;\n",
              "      cursor: pointer;\n",
              "      display: none;\n",
              "      fill: #1967D2;\n",
              "      height: 32px;\n",
              "      padding: 0 0 0 0;\n",
              "      width: 32px;\n",
              "    }\n",
              "\n",
              "    .colab-df-convert:hover {\n",
              "      background-color: #E2EBFA;\n",
              "      box-shadow: 0px 1px 2px rgba(60, 64, 67, 0.3), 0px 1px 3px 1px rgba(60, 64, 67, 0.15);\n",
              "      fill: #174EA6;\n",
              "    }\n",
              "\n",
              "    [theme=dark] .colab-df-convert {\n",
              "      background-color: #3B4455;\n",
              "      fill: #D2E3FC;\n",
              "    }\n",
              "\n",
              "    [theme=dark] .colab-df-convert:hover {\n",
              "      background-color: #434B5C;\n",
              "      box-shadow: 0px 1px 3px 1px rgba(0, 0, 0, 0.15);\n",
              "      filter: drop-shadow(0px 1px 2px rgba(0, 0, 0, 0.3));\n",
              "      fill: #FFFFFF;\n",
              "    }\n",
              "  </style>\n",
              "\n",
              "      <script>\n",
              "        const buttonEl =\n",
              "          document.querySelector('#df-8cb266ef-3bf7-45d1-af89-2b46bef5d07d button.colab-df-convert');\n",
              "        buttonEl.style.display =\n",
              "          google.colab.kernel.accessAllowed ? 'block' : 'none';\n",
              "\n",
              "        async function convertToInteractive(key) {\n",
              "          const element = document.querySelector('#df-8cb266ef-3bf7-45d1-af89-2b46bef5d07d');\n",
              "          const dataTable =\n",
              "            await google.colab.kernel.invokeFunction('convertToInteractive',\n",
              "                                                     [key], {});\n",
              "          if (!dataTable) return;\n",
              "\n",
              "          const docLinkHtml = 'Like what you see? Visit the ' +\n",
              "            '<a target=\"_blank\" href=https://colab.research.google.com/notebooks/data_table.ipynb>data table notebook</a>'\n",
              "            + ' to learn more about interactive tables.';\n",
              "          element.innerHTML = '';\n",
              "          dataTable['output_type'] = 'display_data';\n",
              "          await google.colab.output.renderOutput(dataTable, element);\n",
              "          const docLink = document.createElement('div');\n",
              "          docLink.innerHTML = docLinkHtml;\n",
              "          element.appendChild(docLink);\n",
              "        }\n",
              "      </script>\n",
              "    </div>\n",
              "  </div>\n",
              "  "
            ]
          },
          "metadata": {},
          "execution_count": 31
        }
      ],
      "source": [
        "df2.head(20)"
      ]
    },
    {
      "cell_type": "code",
      "execution_count": 32,
      "metadata": {
        "colab": {
          "base_uri": "https://localhost:8080/",
          "height": 676
        },
        "id": "xa0he-h0tajQ",
        "outputId": "906b2022-8365-4b86-8b3c-3353ce4ab9e4"
      },
      "outputs": [
        {
          "output_type": "execute_result",
          "data": {
            "text/plain": [
              "           Date        Close        day   next_day\n",
              "5738 2020-03-05  1924.030029   Thursday     Friday\n",
              "5739 2020-03-06  1901.089966     Friday     Monday\n",
              "5740 2020-03-09  1800.609985     Monday    Tuesday\n",
              "5741 2020-03-10  1891.819946    Tuesday  Wednesday\n",
              "5742 2020-03-11  1820.859985  Wednesday   Thursday\n",
              "5743 2020-03-12  1676.609985   Thursday     Friday\n",
              "5744 2020-03-13  1785.000000     Friday     Monday\n",
              "5745 2020-03-16  1689.150024     Monday    Tuesday\n",
              "5746 2020-03-17  1807.839966    Tuesday  Wednesday\n",
              "5747 2020-03-18  1830.000000  Wednesday   Thursday\n",
              "5748 2020-03-19  1880.930054   Thursday     Friday\n",
              "5749 2020-03-20  1846.089966     Friday     Monday\n",
              "5750 2020-03-23  1902.829956     Monday    Tuesday\n",
              "5751 2020-03-24  1940.099976    Tuesday  Wednesday\n",
              "5752 2020-03-25  1885.839966  Wednesday   Thursday\n",
              "5753 2020-03-26  1955.489990   Thursday     Friday\n",
              "5754 2020-03-27  1900.099976     Friday     Monday\n",
              "5755 2020-03-30  1963.949951     Monday    Tuesday\n",
              "5756 2020-03-31  1949.719971    Tuesday  Wednesday\n",
              "5757 2020-04-01  1907.699951  Wednesday        NaN"
            ],
            "text/html": [
              "\n",
              "  <div id=\"df-47784f0e-e392-461e-bb9d-c0565fb526d6\">\n",
              "    <div class=\"colab-df-container\">\n",
              "      <div>\n",
              "<style scoped>\n",
              "    .dataframe tbody tr th:only-of-type {\n",
              "        vertical-align: middle;\n",
              "    }\n",
              "\n",
              "    .dataframe tbody tr th {\n",
              "        vertical-align: top;\n",
              "    }\n",
              "\n",
              "    .dataframe thead th {\n",
              "        text-align: right;\n",
              "    }\n",
              "</style>\n",
              "<table border=\"1\" class=\"dataframe\">\n",
              "  <thead>\n",
              "    <tr style=\"text-align: right;\">\n",
              "      <th></th>\n",
              "      <th>Date</th>\n",
              "      <th>Close</th>\n",
              "      <th>day</th>\n",
              "      <th>next_day</th>\n",
              "    </tr>\n",
              "  </thead>\n",
              "  <tbody>\n",
              "    <tr>\n",
              "      <th>5738</th>\n",
              "      <td>2020-03-05</td>\n",
              "      <td>1924.030029</td>\n",
              "      <td>Thursday</td>\n",
              "      <td>Friday</td>\n",
              "    </tr>\n",
              "    <tr>\n",
              "      <th>5739</th>\n",
              "      <td>2020-03-06</td>\n",
              "      <td>1901.089966</td>\n",
              "      <td>Friday</td>\n",
              "      <td>Monday</td>\n",
              "    </tr>\n",
              "    <tr>\n",
              "      <th>5740</th>\n",
              "      <td>2020-03-09</td>\n",
              "      <td>1800.609985</td>\n",
              "      <td>Monday</td>\n",
              "      <td>Tuesday</td>\n",
              "    </tr>\n",
              "    <tr>\n",
              "      <th>5741</th>\n",
              "      <td>2020-03-10</td>\n",
              "      <td>1891.819946</td>\n",
              "      <td>Tuesday</td>\n",
              "      <td>Wednesday</td>\n",
              "    </tr>\n",
              "    <tr>\n",
              "      <th>5742</th>\n",
              "      <td>2020-03-11</td>\n",
              "      <td>1820.859985</td>\n",
              "      <td>Wednesday</td>\n",
              "      <td>Thursday</td>\n",
              "    </tr>\n",
              "    <tr>\n",
              "      <th>5743</th>\n",
              "      <td>2020-03-12</td>\n",
              "      <td>1676.609985</td>\n",
              "      <td>Thursday</td>\n",
              "      <td>Friday</td>\n",
              "    </tr>\n",
              "    <tr>\n",
              "      <th>5744</th>\n",
              "      <td>2020-03-13</td>\n",
              "      <td>1785.000000</td>\n",
              "      <td>Friday</td>\n",
              "      <td>Monday</td>\n",
              "    </tr>\n",
              "    <tr>\n",
              "      <th>5745</th>\n",
              "      <td>2020-03-16</td>\n",
              "      <td>1689.150024</td>\n",
              "      <td>Monday</td>\n",
              "      <td>Tuesday</td>\n",
              "    </tr>\n",
              "    <tr>\n",
              "      <th>5746</th>\n",
              "      <td>2020-03-17</td>\n",
              "      <td>1807.839966</td>\n",
              "      <td>Tuesday</td>\n",
              "      <td>Wednesday</td>\n",
              "    </tr>\n",
              "    <tr>\n",
              "      <th>5747</th>\n",
              "      <td>2020-03-18</td>\n",
              "      <td>1830.000000</td>\n",
              "      <td>Wednesday</td>\n",
              "      <td>Thursday</td>\n",
              "    </tr>\n",
              "    <tr>\n",
              "      <th>5748</th>\n",
              "      <td>2020-03-19</td>\n",
              "      <td>1880.930054</td>\n",
              "      <td>Thursday</td>\n",
              "      <td>Friday</td>\n",
              "    </tr>\n",
              "    <tr>\n",
              "      <th>5749</th>\n",
              "      <td>2020-03-20</td>\n",
              "      <td>1846.089966</td>\n",
              "      <td>Friday</td>\n",
              "      <td>Monday</td>\n",
              "    </tr>\n",
              "    <tr>\n",
              "      <th>5750</th>\n",
              "      <td>2020-03-23</td>\n",
              "      <td>1902.829956</td>\n",
              "      <td>Monday</td>\n",
              "      <td>Tuesday</td>\n",
              "    </tr>\n",
              "    <tr>\n",
              "      <th>5751</th>\n",
              "      <td>2020-03-24</td>\n",
              "      <td>1940.099976</td>\n",
              "      <td>Tuesday</td>\n",
              "      <td>Wednesday</td>\n",
              "    </tr>\n",
              "    <tr>\n",
              "      <th>5752</th>\n",
              "      <td>2020-03-25</td>\n",
              "      <td>1885.839966</td>\n",
              "      <td>Wednesday</td>\n",
              "      <td>Thursday</td>\n",
              "    </tr>\n",
              "    <tr>\n",
              "      <th>5753</th>\n",
              "      <td>2020-03-26</td>\n",
              "      <td>1955.489990</td>\n",
              "      <td>Thursday</td>\n",
              "      <td>Friday</td>\n",
              "    </tr>\n",
              "    <tr>\n",
              "      <th>5754</th>\n",
              "      <td>2020-03-27</td>\n",
              "      <td>1900.099976</td>\n",
              "      <td>Friday</td>\n",
              "      <td>Monday</td>\n",
              "    </tr>\n",
              "    <tr>\n",
              "      <th>5755</th>\n",
              "      <td>2020-03-30</td>\n",
              "      <td>1963.949951</td>\n",
              "      <td>Monday</td>\n",
              "      <td>Tuesday</td>\n",
              "    </tr>\n",
              "    <tr>\n",
              "      <th>5756</th>\n",
              "      <td>2020-03-31</td>\n",
              "      <td>1949.719971</td>\n",
              "      <td>Tuesday</td>\n",
              "      <td>Wednesday</td>\n",
              "    </tr>\n",
              "    <tr>\n",
              "      <th>5757</th>\n",
              "      <td>2020-04-01</td>\n",
              "      <td>1907.699951</td>\n",
              "      <td>Wednesday</td>\n",
              "      <td>NaN</td>\n",
              "    </tr>\n",
              "  </tbody>\n",
              "</table>\n",
              "</div>\n",
              "      <button class=\"colab-df-convert\" onclick=\"convertToInteractive('df-47784f0e-e392-461e-bb9d-c0565fb526d6')\"\n",
              "              title=\"Convert this dataframe to an interactive table.\"\n",
              "              style=\"display:none;\">\n",
              "        \n",
              "  <svg xmlns=\"http://www.w3.org/2000/svg\" height=\"24px\"viewBox=\"0 0 24 24\"\n",
              "       width=\"24px\">\n",
              "    <path d=\"M0 0h24v24H0V0z\" fill=\"none\"/>\n",
              "    <path d=\"M18.56 5.44l.94 2.06.94-2.06 2.06-.94-2.06-.94-.94-2.06-.94 2.06-2.06.94zm-11 1L8.5 8.5l.94-2.06 2.06-.94-2.06-.94L8.5 2.5l-.94 2.06-2.06.94zm10 10l.94 2.06.94-2.06 2.06-.94-2.06-.94-.94-2.06-.94 2.06-2.06.94z\"/><path d=\"M17.41 7.96l-1.37-1.37c-.4-.4-.92-.59-1.43-.59-.52 0-1.04.2-1.43.59L10.3 9.45l-7.72 7.72c-.78.78-.78 2.05 0 2.83L4 21.41c.39.39.9.59 1.41.59.51 0 1.02-.2 1.41-.59l7.78-7.78 2.81-2.81c.8-.78.8-2.07 0-2.86zM5.41 20L4 18.59l7.72-7.72 1.47 1.35L5.41 20z\"/>\n",
              "  </svg>\n",
              "      </button>\n",
              "      \n",
              "  <style>\n",
              "    .colab-df-container {\n",
              "      display:flex;\n",
              "      flex-wrap:wrap;\n",
              "      gap: 12px;\n",
              "    }\n",
              "\n",
              "    .colab-df-convert {\n",
              "      background-color: #E8F0FE;\n",
              "      border: none;\n",
              "      border-radius: 50%;\n",
              "      cursor: pointer;\n",
              "      display: none;\n",
              "      fill: #1967D2;\n",
              "      height: 32px;\n",
              "      padding: 0 0 0 0;\n",
              "      width: 32px;\n",
              "    }\n",
              "\n",
              "    .colab-df-convert:hover {\n",
              "      background-color: #E2EBFA;\n",
              "      box-shadow: 0px 1px 2px rgba(60, 64, 67, 0.3), 0px 1px 3px 1px rgba(60, 64, 67, 0.15);\n",
              "      fill: #174EA6;\n",
              "    }\n",
              "\n",
              "    [theme=dark] .colab-df-convert {\n",
              "      background-color: #3B4455;\n",
              "      fill: #D2E3FC;\n",
              "    }\n",
              "\n",
              "    [theme=dark] .colab-df-convert:hover {\n",
              "      background-color: #434B5C;\n",
              "      box-shadow: 0px 1px 3px 1px rgba(0, 0, 0, 0.15);\n",
              "      filter: drop-shadow(0px 1px 2px rgba(0, 0, 0, 0.3));\n",
              "      fill: #FFFFFF;\n",
              "    }\n",
              "  </style>\n",
              "\n",
              "      <script>\n",
              "        const buttonEl =\n",
              "          document.querySelector('#df-47784f0e-e392-461e-bb9d-c0565fb526d6 button.colab-df-convert');\n",
              "        buttonEl.style.display =\n",
              "          google.colab.kernel.accessAllowed ? 'block' : 'none';\n",
              "\n",
              "        async function convertToInteractive(key) {\n",
              "          const element = document.querySelector('#df-47784f0e-e392-461e-bb9d-c0565fb526d6');\n",
              "          const dataTable =\n",
              "            await google.colab.kernel.invokeFunction('convertToInteractive',\n",
              "                                                     [key], {});\n",
              "          if (!dataTable) return;\n",
              "\n",
              "          const docLinkHtml = 'Like what you see? Visit the ' +\n",
              "            '<a target=\"_blank\" href=https://colab.research.google.com/notebooks/data_table.ipynb>data table notebook</a>'\n",
              "            + ' to learn more about interactive tables.';\n",
              "          element.innerHTML = '';\n",
              "          dataTable['output_type'] = 'display_data';\n",
              "          await google.colab.output.renderOutput(dataTable, element);\n",
              "          const docLink = document.createElement('div');\n",
              "          docLink.innerHTML = docLinkHtml;\n",
              "          element.appendChild(docLink);\n",
              "        }\n",
              "      </script>\n",
              "    </div>\n",
              "  </div>\n",
              "  "
            ]
          },
          "metadata": {},
          "execution_count": 32
        }
      ],
      "source": [
        "df2.tail(20)"
      ]
    },
    {
      "cell_type": "code",
      "execution_count": 33,
      "metadata": {
        "colab": {
          "base_uri": "https://localhost:8080/"
        },
        "id": "dcB5xzv5tajQ",
        "outputId": "bb119167-631d-4e80-8aed-63a0cf192911"
      },
      "outputs": [
        {
          "output_type": "execute_result",
          "data": {
            "text/plain": [
              "Date        0\n",
              "Close       0\n",
              "day         0\n",
              "next_day    1\n",
              "dtype: int64"
            ]
          },
          "metadata": {},
          "execution_count": 33
        }
      ],
      "source": [
        "df2.isnull().sum()"
      ]
    },
    {
      "cell_type": "code",
      "execution_count": 34,
      "metadata": {
        "id": "BvYkjSzWtajQ"
      },
      "outputs": [],
      "source": [
        "df2.fillna(\"Thursday\", inplace=True)"
      ]
    },
    {
      "cell_type": "code",
      "execution_count": 35,
      "metadata": {
        "id": "sYDfzZDStajR"
      },
      "outputs": [],
      "source": [
        "def check_day_order(day, next_day):\n",
        "    days = ['Monday', 'Tuesday', 'Wednesday', 'Thursday', 'Friday']\n",
        "    day_index = days.index(day)\n",
        "    next_day_index = days.index(next_day)\n",
        "    if day == 'Monday' and next_day == 'Tuesday':\n",
        "        return 1\n",
        "    elif day == 'Friday' and next_day == 'Monday':\n",
        "        return 1\n",
        "    elif next_day_index == (day_index + 1) % len(days):\n",
        "        return 1\n",
        "    else:\n",
        "        return 0"
      ]
    },
    {
      "cell_type": "markdown",
      "source": [
        "* Code di atas mendefinisikan sebuah function bernama check_day_order() dengan dua parameter, yaitu \"day\" dan \"next_day\". function ini digunakan untuk memeriksa urutan hari antara \"day\" dan \"next_day\" yang diberikan.\n",
        "\n",
        "* Pada bagian awal, terdapat inisialisasi variabel \"days\" yang berisi daftar hari dalam urutan: 'Monday', 'Tuesday', 'Wednesday', 'Thursday', dan 'Friday'. Kemudian, function ini mengambil indeks hari \"day\" dan \"next_day\" dalam daftar \"days\" menggunakan metode index() dan menyimpannya dalam variabel \"day_index\" dan \"next_day_index\" secara berturut-turut.\n",
        "\n",
        "* function kemudian melakukan beberapa kondisi untuk memeriksa urutan hari antara \"day\" dan \"next_day\". Pertama, jika \"day\" adalah 'Monday' dan \"next_day\" adalah 'Tuesday', function akan mengembalikan nilai 1. Selanjutnya, jika \"day\" adalah 'Friday' dan \"next_day\" adalah 'Monday', function juga akan mengembalikan nilai 1. Hal ini mengindikasikan bahwa urutan hari dari 'Friday' ke 'Monday' atau dari 'Monday' ke 'Tuesday' dianggap benar.\n",
        "\n",
        "* Selain itu, function juga memeriksa apakah indeks \"next_day\" adalah hasil dari penambahan 1 terhadap \"day_index\" (dengan menggunakan operasi modulus len(days)). Jika kondisi ini terpenuhi, function akan mengembalikan nilai 1, yang menunjukkan urutan hari yang benar.\n",
        "\n",
        "* Jika tidak ada kondisi yang terpenuhi, function akan mengembalikan nilai 0, yang menandakan bahwa urutan hari antara \"day\" dan \"next_day\" tidak sesuai.\n",
        "\n",
        "* Dengan menggunakan function ini, urutan hari dalam df1 dapat diperiksa kebenarannya."
      ],
      "metadata": {
        "id": "qfgvhX4TBOKC"
      }
    },
    {
      "cell_type": "code",
      "execution_count": 36,
      "metadata": {
        "id": "-9jhBtjYtajR"
      },
      "outputs": [],
      "source": [
        "# Penerapan function check_day_order\n",
        "df2['ordered'] = df2.apply(lambda row: check_day_order(row['day'], row['next_day']), axis=1)"
      ]
    },
    {
      "cell_type": "code",
      "execution_count": 37,
      "metadata": {
        "colab": {
          "base_uri": "https://localhost:8080/",
          "height": 564
        },
        "id": "4isTXQeCtajR",
        "outputId": "09b774a0-cc3b-4e94-bf8c-e2a40559ac0b"
      },
      "outputs": [
        {
          "output_type": "display_data",
          "data": {
            "text/plain": [
              "<Figure size 1000x600 with 1 Axes>"
            ],
            "image/png": "[encoded data removed]"
          },
          "metadata": {}
        }
      ],
      "source": [
        "plt.figure(figsize=(10, 6))\n",
        "ax = sns.countplot(data = df2, x ='ordered', palette='cool',\n",
        "                    saturation=0.9)\n",
        "for container in ax.containers:\n",
        "    ax.bar_label(container)\n",
        "ax.bar_label(container=ax.containers[0], labels=['Not Ordered', 'Ordered'],\n",
        "              label_type='center', size=10, color='w')\n",
        "plt.title(\"Ordered vs Not Ordered\")\n",
        "plt.show()"
      ]
    },
    {
      "cell_type": "code",
      "execution_count": 38,
      "metadata": {
        "id": "yeiPGTZjtajR"
      },
      "outputs": [],
      "source": [
        "df2 = df2.drop(\"next_day\", axis=1)\n",
        "\n",
        "# Mengubah index dataframe menjadi kolom \"Date\"\n",
        "df2 = df2.set_index('Date')\n",
        "\n",
        "# Membuat range tanggal mulai dari tanggal pertama hingga tanggal terakhir\n",
        "date_range = pd.date_range(start=df2.index.min(), end=df2.index.max(), freq='D')\n",
        "\n",
        "# Membuat dataframe baru dengan index berdasarkan date range\n",
        "df3 = pd.DataFrame(index=date_range)\n",
        "\n",
        "# Menggabungkan dataframe df3 dengan df2 untuk melengkapi tanggal\n",
        "df_complete = df3.merge(df2, how = 'left', left_index = True, right_index = True)\n",
        "\n",
        "# Mengisi nilai kosong pada kolom \"Close\" dengan rata-rata nilai sebelum dan sesudahnya\n",
        "df_complete['Close'] = df_complete['Close'].fillna((df_complete['Close'].shift() + df_complete['Close'].shift(-1)) / 2)\n",
        "\n",
        "# Mengatur ulang index menjadi kolom \"Date\"\n",
        "df_complete = df_complete.reset_index()\n",
        "\n",
        "df_complete = df_complete.rename(columns={\"index\": \"Date\"})\n",
        "\n",
        "# Mengurutkan dataframe berdasarkan kolom \"Date\"\n",
        "df_complete = df_complete.sort_values('Date')\n",
        "\n",
        "# Mengubah tipe data kolom \"Date\" menjadi string\n",
        "df_complete['Date'] = df_complete['Date'].dt.strftime('%Y-%m-%d')"
      ]
    },
    {
      "cell_type": "code",
      "execution_count": 39,
      "metadata": {
        "id": "Wt1ahxyWtajS"
      },
      "outputs": [],
      "source": [
        "df_complete['Close'] = df_complete['Close'].fillna((df_complete['Close'].shift() + df_complete['Close'].shift(-1)) / 2)"
      ]
    },
    {
      "cell_type": "code",
      "execution_count": 40,
      "metadata": {
        "id": "g4vO0djatajS"
      },
      "outputs": [],
      "source": [
        "# Mengisi nilai kosong pada kolom \"Close\" dengan rata-rata nilai terdekat\n",
        "df_complete['Close'] = df_complete['Close'].fillna(df_complete['Close'].interpolate())"
      ]
    },
    {
      "cell_type": "code",
      "execution_count": 41,
      "metadata": {
        "id": "Vsgrh_28tajS"
      },
      "outputs": [],
      "source": [
        "df_complete['Date'] = pd.to_datetime(df_complete['Date'])\n",
        "df_complete['day'] = df_complete['Date'].dt.day_name()"
      ]
    },
    {
      "cell_type": "code",
      "execution_count": 42,
      "metadata": {
        "id": "CCU02cBNtajT"
      },
      "outputs": [],
      "source": [
        "df_final2 = df_complete[~df_complete.day.isin(['Saturday',\"Sunday\"])]"
      ]
    },
    {
      "cell_type": "code",
      "execution_count": 43,
      "metadata": {
        "colab": {
          "base_uri": "https://localhost:8080/"
        },
        "id": "lLBEaapetajU",
        "outputId": "ce15d77e-998d-4b72-9610-1502b5882a0c"
      },
      "outputs": [
        {
          "output_type": "stream",
          "name": "stderr",
          "text": [
            "<ipython-input-43-7faa69c177ab>:1: SettingWithCopyWarning: \n",
            "A value is trying to be set on a copy of a slice from a DataFrame.\n",
            "Try using .loc[row_indexer,col_indexer] = value instead\n",
            "\n",
            "See the caveats in the documentation: https://pandas.pydata.org/pandas-docs/stable/user_guide/indexing.html#returning-a-view-versus-a-copy\n",
            "  df_final2['next_day'] = df_final2['Date'].shift(-1).dt.day_name()\n"
          ]
        }
      ],
      "source": [
        "df_final2['next_day'] = df_final2['Date'].shift(-1).dt.day_name()\n",
        "df_final2 = df_final2.drop(['ordered'], axis=1).reset_index(drop=True)"
      ]
    },
    {
      "cell_type": "code",
      "execution_count": 44,
      "metadata": {
        "id": "1gqqUo1JtajU"
      },
      "outputs": [],
      "source": [
        "df_final2.fillna(\"Thursday\", inplace=True)\n",
        "df_final2['ordered'] = df_final2.apply(lambda row: check_day_order(row['day'], row['next_day']), axis=1)"
      ]
    },
    {
      "cell_type": "code",
      "execution_count": 45,
      "metadata": {
        "colab": {
          "base_uri": "https://localhost:8080/"
        },
        "id": "dpOlIBOGtajU",
        "outputId": "4510aba7-83fb-4fb7-e264-bb3cb2580660"
      },
      "outputs": [
        {
          "output_type": "execute_result",
          "data": {
            "text/plain": [
              "1    5970\n",
              "Name: ordered, dtype: int64"
            ]
          },
          "metadata": {},
          "execution_count": 45
        }
      ],
      "source": [
        "df_final2.ordered.value_counts()"
      ]
    },
    {
      "cell_type": "code",
      "execution_count": 46,
      "metadata": {
        "colab": {
          "base_uri": "https://localhost:8080/",
          "height": 423
        },
        "id": "_lItmfgQtajV",
        "outputId": "67b0f3b0-e62f-4c3e-9456-775515e07a07"
      },
      "outputs": [
        {
          "output_type": "execute_result",
          "data": {
            "text/plain": [
              "           Date        Close        day   next_day  ordered\n",
              "0    1997-05-15     1.958333   Thursday     Friday        1\n",
              "1    1997-05-16     1.729167     Friday     Monday        1\n",
              "2    1997-05-19     1.708333     Monday    Tuesday        1\n",
              "3    1997-05-20     1.635417    Tuesday  Wednesday        1\n",
              "4    1997-05-21     1.427083  Wednesday   Thursday        1\n",
              "...         ...          ...        ...        ...      ...\n",
              "5965 2020-03-26  1955.489990   Thursday     Friday        1\n",
              "5966 2020-03-27  1900.099976     Friday     Monday        1\n",
              "5967 2020-03-30  1963.949951     Monday    Tuesday        1\n",
              "5968 2020-03-31  1949.719971    Tuesday  Wednesday        1\n",
              "5969 2020-04-01  1907.699951  Wednesday   Thursday        1\n",
              "\n",
              "[5970 rows x 5 columns]"
            ],
            "text/html": [
              "\n",
              "  <div id=\"df-6398f6d1-a498-45f7-b083-cc2dd78e33b3\">\n",
              "    <div class=\"colab-df-container\">\n",
              "      <div>\n",
              "<style scoped>\n",
              "    .dataframe tbody tr th:only-of-type {\n",
              "        vertical-align: middle;\n",
              "    }\n",
              "\n",
              "    .dataframe tbody tr th {\n",
              "        vertical-align: top;\n",
              "    }\n",
              "\n",
              "    .dataframe thead th {\n",
              "        text-align: right;\n",
              "    }\n",
              "</style>\n",
              "<table border=\"1\" class=\"dataframe\">\n",
              "  <thead>\n",
              "    <tr style=\"text-align: right;\">\n",
              "      <th></th>\n",
              "      <th>Date</th>\n",
              "      <th>Close</th>\n",
              "      <th>day</th>\n",
              "      <th>next_day</th>\n",
              "      <th>ordered</th>\n",
              "    </tr>\n",
              "  </thead>\n",
              "  <tbody>\n",
              "    <tr>\n",
              "      <th>0</th>\n",
              "      <td>1997-05-15</td>\n",
              "      <td>1.958333</td>\n",
              "      <td>Thursday</td>\n",
              "      <td>Friday</td>\n",
              "      <td>1</td>\n",
              "    </tr>\n",
              "    <tr>\n",
              "      <th>1</th>\n",
              "      <td>1997-05-16</td>\n",
              "      <td>1.729167</td>\n",
              "      <td>Friday</td>\n",
              "      <td>Monday</td>\n",
              "      <td>1</td>\n",
              "    </tr>\n",
              "    <tr>\n",
              "      <th>2</th>\n",
              "      <td>1997-05-19</td>\n",
              "      <td>1.708333</td>\n",
              "      <td>Monday</td>\n",
              "      <td>Tuesday</td>\n",
              "      <td>1</td>\n",
              "    </tr>\n",
              "    <tr>\n",
              "      <th>3</th>\n",
              "      <td>1997-05-20</td>\n",
              "      <td>1.635417</td>\n",
              "      <td>Tuesday</td>\n",
              "      <td>Wednesday</td>\n",
              "      <td>1</td>\n",
              "    </tr>\n",
              "    <tr>\n",
              "      <th>4</th>\n",
              "      <td>1997-05-21</td>\n",
              "      <td>1.427083</td>\n",
              "      <td>Wednesday</td>\n",
              "      <td>Thursday</td>\n",
              "      <td>1</td>\n",
              "    </tr>\n",
              "    <tr>\n",
              "      <th>...</th>\n",
              "      <td>...</td>\n",
              "      <td>...</td>\n",
              "      <td>...</td>\n",
              "      <td>...</td>\n",
              "      <td>...</td>\n",
              "    </tr>\n",
              "    <tr>\n",
              "      <th>5965</th>\n",
              "      <td>2020-03-26</td>\n",
              "      <td>1955.489990</td>\n",
              "      <td>Thursday</td>\n",
              "      <td>Friday</td>\n",
              "      <td>1</td>\n",
              "    </tr>\n",
              "    <tr>\n",
              "      <th>5966</th>\n",
              "      <td>2020-03-27</td>\n",
              "      <td>1900.099976</td>\n",
              "      <td>Friday</td>\n",
              "      <td>Monday</td>\n",
              "      <td>1</td>\n",
              "    </tr>\n",
              "    <tr>\n",
              "      <th>5967</th>\n",
              "      <td>2020-03-30</td>\n",
              "      <td>1963.949951</td>\n",
              "      <td>Monday</td>\n",
              "      <td>Tuesday</td>\n",
              "      <td>1</td>\n",
              "    </tr>\n",
              "    <tr>\n",
              "      <th>5968</th>\n",
              "      <td>2020-03-31</td>\n",
              "      <td>1949.719971</td>\n",
              "      <td>Tuesday</td>\n",
              "      <td>Wednesday</td>\n",
              "      <td>1</td>\n",
              "    </tr>\n",
              "    <tr>\n",
              "      <th>5969</th>\n",
              "      <td>2020-04-01</td>\n",
              "      <td>1907.699951</td>\n",
              "      <td>Wednesday</td>\n",
              "      <td>Thursday</td>\n",
              "      <td>1</td>\n",
              "    </tr>\n",
              "  </tbody>\n",
              "</table>\n",
              "<p>5970 rows × 5 columns</p>\n",
              "</div>\n",
              "      <button class=\"colab-df-convert\" onclick=\"convertToInteractive('df-6398f6d1-a498-45f7-b083-cc2dd78e33b3')\"\n",
              "              title=\"Convert this dataframe to an interactive table.\"\n",
              "              style=\"display:none;\">\n",
              "        \n",
              "  <svg xmlns=\"http://www.w3.org/2000/svg\" height=\"24px\"viewBox=\"0 0 24 24\"\n",
              "       width=\"24px\">\n",
              "    <path d=\"M0 0h24v24H0V0z\" fill=\"none\"/>\n",
              "    <path d=\"M18.56 5.44l.94 2.06.94-2.06 2.06-.94-2.06-.94-.94-2.06-.94 2.06-2.06.94zm-11 1L8.5 8.5l.94-2.06 2.06-.94-2.06-.94L8.5 2.5l-.94 2.06-2.06.94zm10 10l.94 2.06.94-2.06 2.06-.94-2.06-.94-.94-2.06-.94 2.06-2.06.94z\"/><path d=\"M17.41 7.96l-1.37-1.37c-.4-.4-.92-.59-1.43-.59-.52 0-1.04.2-1.43.59L10.3 9.45l-7.72 7.72c-.78.78-.78 2.05 0 2.83L4 21.41c.39.39.9.59 1.41.59.51 0 1.02-.2 1.41-.59l7.78-7.78 2.81-2.81c.8-.78.8-2.07 0-2.86zM5.41 20L4 18.59l7.72-7.72 1.47 1.35L5.41 20z\"/>\n",
              "  </svg>\n",
              "      </button>\n",
              "      \n",
              "  <style>\n",
              "    .colab-df-container {\n",
              "      display:flex;\n",
              "      flex-wrap:wrap;\n",
              "      gap: 12px;\n",
              "    }\n",
              "\n",
              "    .colab-df-convert {\n",
              "      background-color: #E8F0FE;\n",
              "      border: none;\n",
              "      border-radius: 50%;\n",
              "      cursor: pointer;\n",
              "      display: none;\n",
              "      fill: #1967D2;\n",
              "      height: 32px;\n",
              "      padding: 0 0 0 0;\n",
              "      width: 32px;\n",
              "    }\n",
              "\n",
              "    .colab-df-convert:hover {\n",
              "      background-color: #E2EBFA;\n",
              "      box-shadow: 0px 1px 2px rgba(60, 64, 67, 0.3), 0px 1px 3px 1px rgba(60, 64, 67, 0.15);\n",
              "      fill: #174EA6;\n",
              "    }\n",
              "\n",
              "    [theme=dark] .colab-df-convert {\n",
              "      background-color: #3B4455;\n",
              "      fill: #D2E3FC;\n",
              "    }\n",
              "\n",
              "    [theme=dark] .colab-df-convert:hover {\n",
              "      background-color: #434B5C;\n",
              "      box-shadow: 0px 1px 3px 1px rgba(0, 0, 0, 0.15);\n",
              "      filter: drop-shadow(0px 1px 2px rgba(0, 0, 0, 0.3));\n",
              "      fill: #FFFFFF;\n",
              "    }\n",
              "  </style>\n",
              "\n",
              "      <script>\n",
              "        const buttonEl =\n",
              "          document.querySelector('#df-6398f6d1-a498-45f7-b083-cc2dd78e33b3 button.colab-df-convert');\n",
              "        buttonEl.style.display =\n",
              "          google.colab.kernel.accessAllowed ? 'block' : 'none';\n",
              "\n",
              "        async function convertToInteractive(key) {\n",
              "          const element = document.querySelector('#df-6398f6d1-a498-45f7-b083-cc2dd78e33b3');\n",
              "          const dataTable =\n",
              "            await google.colab.kernel.invokeFunction('convertToInteractive',\n",
              "                                                     [key], {});\n",
              "          if (!dataTable) return;\n",
              "\n",
              "          const docLinkHtml = 'Like what you see? Visit the ' +\n",
              "            '<a target=\"_blank\" href=https://colab.research.google.com/notebooks/data_table.ipynb>data table notebook</a>'\n",
              "            + ' to learn more about interactive tables.';\n",
              "          element.innerHTML = '';\n",
              "          dataTable['output_type'] = 'display_data';\n",
              "          await google.colab.output.renderOutput(dataTable, element);\n",
              "          const docLink = document.createElement('div');\n",
              "          docLink.innerHTML = docLinkHtml;\n",
              "          element.appendChild(docLink);\n",
              "        }\n",
              "      </script>\n",
              "    </div>\n",
              "  </div>\n",
              "  "
            ]
          },
          "metadata": {},
          "execution_count": 46
        }
      ],
      "source": [
        "df_final2"
      ]
    },
    {
      "cell_type": "code",
      "execution_count": 47,
      "metadata": {
        "colab": {
          "base_uri": "https://localhost:8080/"
        },
        "id": "3EdG6I0JtajV",
        "outputId": "44ef6ab7-43ed-4f4e-8ecc-eb500a0f81b4"
      },
      "outputs": [
        {
          "output_type": "stream",
          "name": "stdout",
          "text": [
            "Training Data:\n",
            "(954, 5)\n",
            "(954, 1)\n",
            "\n",
            "Validation Data:\n",
            "(119, 5)\n",
            "(119, 1)\n",
            "\n",
            "Testing Data:\n",
            "(120, 5)\n",
            "(120, 1)\n"
          ]
        }
      ],
      "source": [
        "# Menentukan window size dan horizon\n",
        "window_size = 5\n",
        "horizon = 1\n",
        "\n",
        "# Memisahkan data time series menjadi input dan output\n",
        "input_data = []\n",
        "output_data = []\n",
        "for i in range(len(df_final2) - window_size - horizon + 1):\n",
        "    if df_final2['day'].iloc[i:i+window_size].eq(['Monday', 'Tuesday', 'Wednesday', 'Thursday', 'Friday']).all() and df_final2['day'].iloc[i + window_size:i + window_size + horizon].eq('Monday').all():\n",
        "        input_data.append(df_final2['Close'].iloc[i:i + window_size].values)\n",
        "        output_data.append(df_final2['Close'].iloc[i + window_size:i + window_size + horizon].values)\n",
        "\n",
        "# Mengonversi menjadi DataFrame\n",
        "input_df = pd.DataFrame(input_data, columns=[f'lag_{i}' for i in range(1, window_size + 1)])\n",
        "output_df = pd.DataFrame(output_data, columns=['output'])\n",
        "\n",
        "# Memisahkan dataset menjadi training, testing, dan validation set\n",
        "total_samples = len(input_df)\n",
        "train_ratio = 0.8\n",
        "val_ratio = 0.1\n",
        "test_ratio = 0.1\n",
        "\n",
        "train_size = int(total_samples * train_ratio)\n",
        "val_size = int(total_samples * val_ratio)\n",
        "\n",
        "train_input = input_df[:train_size]\n",
        "train_output = output_df[:train_size]\n",
        "\n",
        "val_input = input_df[train_size:train_size + val_size]\n",
        "val_output = output_df[train_size:train_size + val_size]\n",
        "\n",
        "test_input = input_df[train_size + val_size:]\n",
        "test_output = output_df[train_size + val_size:]\n",
        "\n",
        "# Menampilkan hasil\n",
        "print(\"Training Data:\")\n",
        "print(train_input.shape)\n",
        "print(train_output.shape)\n",
        "print()\n",
        "print(\"Validation Data:\")\n",
        "print(val_input.shape)\n",
        "print(val_output.shape)\n",
        "print()\n",
        "print(\"Testing Data:\")\n",
        "print(test_input.shape)\n",
        "print(test_output.shape)"
      ]
    },
    {
      "cell_type": "code",
      "execution_count": 48,
      "metadata": {
        "id": "Hi_o78mttajV"
      },
      "outputs": [],
      "source": [
        "# Konversi DataFrame menjadi array numpy\n",
        "train_input = train_input.to_numpy()\n",
        "train_output = train_output.to_numpy()\n",
        "val_input = val_input.to_numpy()\n",
        "val_output = val_output.to_numpy()\n",
        "test_input = test_input.to_numpy()\n",
        "test_output = test_output.to_numpy()\n",
        "\n",
        "# Menentukan jumlah fitur dan timesteps\n",
        "n_features = train_input.shape[1]\n",
        "n_timesteps = 1\n",
        "\n",
        "# Reshape input menjadi bentuk yang sesuai untuk model LSTM\n",
        "train_input = train_input.reshape((train_input.shape[0], n_timesteps, n_features))\n",
        "val_input = val_input.reshape((val_input.shape[0], n_timesteps, n_features))\n",
        "test_input = test_input.reshape((test_input.shape[0], n_timesteps, n_features))\n"
      ]
    },
    {
      "cell_type": "markdown",
      "metadata": {
        "id": "656_GYAAtajW"
      },
      "source": [
        "**b. Buat baseline architecture dengan LSTM (units = 50) dan layer akhir yang berupa node perceptron (units = 1). Gunakan ReLU sebagai activation function untuk LSTM.**"
      ]
    },
    {
      "cell_type": "code",
      "execution_count": 49,
      "metadata": {
        "colab": {
          "base_uri": "https://localhost:8080/"
        },
        "id": "15yKLBkftajW",
        "outputId": "0f7c3f24-4e64-47a2-a3d8-4f2f2f340071"
      },
      "outputs": [
        {
          "output_type": "stream",
          "name": "stderr",
          "text": [
            "WARNING:tensorflow:Layer lstm_2 will not use cuDNN kernels since it doesn't meet the criteria. It will use a generic GPU kernel as fallback when running on GPU.\n"
          ]
        },
        {
          "output_type": "stream",
          "name": "stdout",
          "text": [
            "Model: \"sequential_2\"\n",
            "_________________________________________________________________\n",
            " Layer (type)                Output Shape              Param #   \n",
            "=================================================================\n",
            " lstm_2 (LSTM)               (None, 50)                11200     \n",
            "                                                                 \n",
            " dense_2 (Dense)             (None, 1)                 51        \n",
            "                                                                 \n",
            "=================================================================\n",
            "Total params: 11,251\n",
            "Trainable params: 11,251\n",
            "Non-trainable params: 0\n",
            "_________________________________________________________________\n",
            "None\n"
          ]
        }
      ],
      "source": [
        "# Membangun model baseline dengan LSTM dan layer perceptron\n",
        "model_baseline = Sequential()\n",
        "model_baseline.add(LSTM(50, activation='relu', input_shape=(n_timesteps, n_features)))\n",
        "model_baseline.add(Dense(1))\n",
        "print(model_baseline.summary())\n",
        "model_baseline.compile(optimizer=Adam(learning_rate=0.1), loss='mse')"
      ]
    },
    {
      "cell_type": "markdown",
      "metadata": {
        "id": "LekGasJktajW"
      },
      "source": [
        "**c. Lakukan modifikasi arsitektur pada arsitektur 1b untuk mendapatkan hasil yang lebih\n",
        "optimal (bisa dengan mengurangi/menambahkan arsitektur, atau mengganti\n",
        "hyperparameter, atau melakukan tuning pada hyperparameter). Jelaskan alasan dipilihnya\n",
        "pendekatan tersebut**"
      ]
    },
    {
      "cell_type": "code",
      "execution_count": 50,
      "metadata": {
        "colab": {
          "base_uri": "https://localhost:8080/"
        },
        "id": "4Wdmqi4etajW",
        "outputId": "e3305e13-66f2-45e1-bd50-d2363ac56fc8"
      },
      "outputs": [
        {
          "output_type": "stream",
          "name": "stderr",
          "text": [
            "WARNING:tensorflow:Layer lstm_3 will not use cuDNN kernels since it doesn't meet the criteria. It will use a generic GPU kernel as fallback when running on GPU.\n"
          ]
        },
        {
          "output_type": "stream",
          "name": "stdout",
          "text": [
            "Model: \"sequential_3\"\n",
            "_________________________________________________________________\n",
            " Layer (type)                Output Shape              Param #   \n",
            "=================================================================\n",
            " lstm_3 (LSTM)               (None, 32)                4864      \n",
            "                                                                 \n",
            " dense_3 (Dense)             (None, 1)                 33        \n",
            "                                                                 \n",
            "=================================================================\n",
            "Total params: 4,897\n",
            "Trainable params: 4,897\n",
            "Non-trainable params: 0\n",
            "_________________________________________________________________\n",
            "None\n"
          ]
        }
      ],
      "source": [
        "model_modified = Sequential()\n",
        "model_modified.add(LSTM(32, activation='relu', input_shape=(n_timesteps, n_features)))\n",
        "model_modified.add(Dense(1))\n",
        "print(model_modified.summary())\n",
        "\n",
        "# Menyusun model\n",
        "model_modified.compile(optimizer=Adam(learning_rate=0.01), loss='mse')"
      ]
    },
    {
      "cell_type": "markdown",
      "metadata": {
        "id": "g_oo9mwXtajW"
      },
      "source": [
        "**d. Lakukan evaluasi untuk kedua arsitektur di atas pada testing set dengan mencari MAE,\n",
        "RMSE, dan MAPE nya. Berikan penjelasan mengenai hasilnya.**"
      ]
    },
    {
      "cell_type": "code",
      "execution_count": 52,
      "metadata": {
        "colab": {
          "base_uri": "https://localhost:8080/"
        },
        "id": "0YUE6Sm7tajX",
        "outputId": "43ab085e-deb6-4214-d1a6-9299dd8c300d"
      },
      "outputs": [
        {
          "output_type": "stream",
          "name": "stdout",
          "text": [
            "Epoch 1/10\n",
            "30/30 [==============================] - 1s 19ms/step - loss: 53.6203 - val_loss: 3416.5012\n",
            "Epoch 2/10\n",
            "30/30 [==============================] - 0s 16ms/step - loss: 55.5202 - val_loss: 366.0977\n",
            "Epoch 3/10\n",
            "30/30 [==============================] - 0s 16ms/step - loss: 33.3915 - val_loss: 347.2894\n",
            "Epoch 4/10\n",
            "30/30 [==============================] - 0s 15ms/step - loss: 30.5198 - val_loss: 428.6058\n",
            "Epoch 5/10\n",
            "30/30 [==============================] - 0s 13ms/step - loss: 43.4637 - val_loss: 346.8177\n",
            "Epoch 6/10\n",
            "30/30 [==============================] - 0s 13ms/step - loss: 45.9742 - val_loss: 346.9239\n",
            "Epoch 7/10\n",
            "30/30 [==============================] - 0s 10ms/step - loss: 29.8821 - val_loss: 634.1915\n",
            "Epoch 8/10\n",
            "30/30 [==============================] - 0s 11ms/step - loss: 38.3645 - val_loss: 1271.2573\n",
            "Epoch 9/10\n",
            "30/30 [==============================] - 0s 13ms/step - loss: 38.2886 - val_loss: 832.3522\n",
            "Epoch 10/10\n",
            "30/30 [==============================] - 0s 10ms/step - loss: 23.0752 - val_loss: 5379.5420\n",
            "\n",
            "Epoch 1/20\n",
            "30/30 [==============================] - 2s 13ms/step - loss: 5647.9072 - val_loss: 1433.7711\n",
            "Epoch 2/20\n",
            "30/30 [==============================] - 0s 6ms/step - loss: 41.9105 - val_loss: 755.5471\n",
            "Epoch 3/20\n",
            "30/30 [==============================] - 0s 6ms/step - loss: 29.8586 - val_loss: 372.4277\n",
            "Epoch 4/20\n",
            "30/30 [==============================] - 0s 6ms/step - loss: 28.4333 - val_loss: 395.2209\n",
            "Epoch 5/20\n",
            "30/30 [==============================] - 0s 6ms/step - loss: 30.5634 - val_loss: 472.2354\n",
            "Epoch 6/20\n",
            "30/30 [==============================] - 0s 6ms/step - loss: 28.2413 - val_loss: 356.9976\n",
            "Epoch 7/20\n",
            "30/30 [==============================] - 0s 6ms/step - loss: 27.0538 - val_loss: 657.3529\n",
            "Epoch 8/20\n",
            "30/30 [==============================] - 0s 7ms/step - loss: 25.7613 - val_loss: 349.0912\n",
            "Epoch 9/20\n",
            "30/30 [==============================] - 0s 5ms/step - loss: 26.3219 - val_loss: 361.6506\n",
            "Epoch 10/20\n",
            "30/30 [==============================] - 0s 6ms/step - loss: 30.4632 - val_loss: 339.9061\n",
            "Epoch 11/20\n",
            "30/30 [==============================] - 0s 6ms/step - loss: 24.9922 - val_loss: 368.0628\n",
            "Epoch 12/20\n",
            "30/30 [==============================] - 0s 6ms/step - loss: 24.9354 - val_loss: 345.0240\n",
            "Epoch 13/20\n",
            "30/30 [==============================] - 0s 6ms/step - loss: 24.4629 - val_loss: 333.3040\n",
            "Epoch 14/20\n",
            "30/30 [==============================] - 0s 5ms/step - loss: 29.0191 - val_loss: 481.6244\n",
            "Epoch 15/20\n",
            "30/30 [==============================] - 0s 5ms/step - loss: 27.7918 - val_loss: 640.6591\n",
            "Epoch 16/20\n",
            "30/30 [==============================] - 0s 6ms/step - loss: 34.7428 - val_loss: 607.3333\n",
            "Epoch 17/20\n",
            "30/30 [==============================] - 0s 6ms/step - loss: 28.0556 - val_loss: 369.5468\n",
            "Epoch 18/20\n",
            "30/30 [==============================] - 0s 6ms/step - loss: 22.6642 - val_loss: 338.6606\n",
            "Epoch 19/20\n",
            "30/30 [==============================] - 0s 6ms/step - loss: 22.0680 - val_loss: 681.6002\n",
            "Epoch 20/20\n",
            "30/30 [==============================] - 0s 6ms/step - loss: 23.2931 - val_loss: 313.5407\n"
          ]
        },
        {
          "output_type": "execute_result",
          "data": {
            "text/plain": [
              "<keras.callbacks.History at 0x7fc208fb6350>"
            ]
          },
          "metadata": {},
          "execution_count": 52
        }
      ],
      "source": [
        "# Melatih model baseline dan model yang dimodifikasi\n",
        "batch_size = 32\n",
        "model_baseline.fit(train_input, train_output, epochs=10, batch_size = batch_size ,validation_data=(val_input, val_output))\n",
        "print()\n",
        "model_modified.fit(train_input, train_output, epochs=20, batch_size = batch_size ,validation_data=(val_input, val_output))"
      ]
    },
    {
      "cell_type": "code",
      "execution_count": 53,
      "metadata": {
        "colab": {
          "base_uri": "https://localhost:8080/"
        },
        "id": "0-gwQU6otajX",
        "outputId": "4984471a-e98f-49e6-81c8-c48e668d29a7"
      },
      "outputs": [
        {
          "output_type": "stream",
          "name": "stdout",
          "text": [
            "4/4 [==============================] - 0s 3ms/step\n",
            "4/4 [==============================] - 0s 3ms/step\n",
            "Metrik Evaluasi Model Baseline:\n",
            "MAE: 158.83347447713217\n",
            "RMSE: 166.21590709138263\n",
            "MAPE: 9.253424603442442\n",
            "\n",
            "Metrik Evaluasi Model yang Dimodifikasi:\n",
            "MAE: 34.63879470825194\n",
            "RMSE: 46.09267413527869\n",
            "MAPE: 2.038806015602494\n"
          ]
        }
      ],
      "source": [
        "# Melakukan prediksi pada data pengujian menggunakan model baseline\n",
        "predictions_baseline = model_baseline.predict(test_input)\n",
        "\n",
        "# Melakukan prediksi pada data pengujian menggunakan model yang dimodifikasi\n",
        "predictions_modified = model_modified.predict(test_input)\n",
        "\n",
        "# Menghitung metrik evaluasi MAE, RMSE, dan MAPE untuk model baseline\n",
        "mae_baseline = mean_absolute_error(test_output, predictions_baseline)\n",
        "rmse_baseline = np.sqrt(mean_squared_error(test_output, predictions_baseline))\n",
        "mape_baseline = np.mean(np.abs((test_output - predictions_baseline) / test_output)) * 100\n",
        "\n",
        "# Menghitung metrik evaluasi MAE, RMSE, dan MAPE untuk model yang dimodifikasi\n",
        "mae_modified = mean_absolute_error(test_output, predictions_modified)\n",
        "rmse_modified = np.sqrt(mean_squared_error(test_output, predictions_modified))\n",
        "mape_modified = np.mean(np.abs((test_output - predictions_modified) / test_output)) * 100\n",
        "\n",
        "# Menampilkan hasil evaluasi\n",
        "print(\"Metrik Evaluasi Model Baseline:\")\n",
        "print(\"MAE:\", mae_baseline)\n",
        "print(\"RMSE:\", rmse_baseline)\n",
        "print(\"MAPE:\", mape_baseline)\n",
        "print()\n",
        "print(\"Metrik Evaluasi Model yang Dimodifikasi:\")\n",
        "print(\"MAE:\", mae_modified)\n",
        "print(\"RMSE:\", rmse_modified)\n",
        "print(\"MAPE:\", mape_modified)"
      ]
    },
    {
      "cell_type": "markdown",
      "metadata": {
        "id": "j_OVD7aCtajX"
      },
      "source": [
        "\n",
        "Hasil evaluasi menunjukkan metrik evaluasi untuk kedua model, yaitu Model Baseline dan Model yang Dimodifikasi.\n",
        "\n",
        "1. Model Baseline:\n",
        "\n",
        "* MAE (Mean Absolute Error): Nilai MAE sebesar 185.32 menunjukkan rata-rata kesalahan absolut antara prediksi dan nilai sebenarnya pada testing set. Semakin tinggi nilai MAE, semakin besar rata-rata kesalahan prediksi model baseline adalah sekitar 185.32.\n",
        "* RMSE (Root Mean Square Error): Nilai RMSE sebesar 193.50 menunjukkan akar kuadrat dari rata-rata kesalahan kuadrat antara prediksi dan nilai sebenarnya pada testing set. Semakin tinggi nilai RMSE, semakin besar rata-rata kesalahan prediksi model baseline adalah sekitar 193.50.\n",
        "* MAPE (Mean Absolute Percentage Error): Nilai MAPE sebesar 10.80 menunjukkan rata-rata persentase kesalahan absolut antara prediksi dan nilai sebenarnya pada testing set. Semakin tinggi nilai MAPE, semakin besar rata-rata persentase kesalahan prediksi model baseline adalah sekitar 10.80%.\n",
        "\n",
        "2. Model yang Dimodifikasi:\n",
        "\n",
        "* MAE (Mean Absolute Error): Nilai MAE sebesar 34.64 menunjukkan rata-rata kesalahan absolut antara prediksi dan nilai sebenarnya pada testing set. Semakin rendah nilai MAE, semakin kecil rata-rata kesalahan prediksi model yang dimodifikasi adalah sekitar 34.64.\n",
        "* RMSE (Root Mean Square Error): Nilai RMSE sebesar 46.09 menunjukkan akar kuadrat dari rata-rata kesalahan kuadrat antara prediksi dan nilai sebenarnya pada testing set. Semakin rendah nilai RMSE, semakin kecil rata-rata kesalahan prediksi model yang dimodifikasi adalah sekitar 46.09.\n",
        "* MAPE (Mean Absolute Percentage Error): Nilai MAPE sebesar 2.04 menunjukkan rata-rata persentase kesalahan absolut antara prediksi dan nilai sebenarnya pada testing set. Semakin rendah nilai MAPE, semakin kecil rata-rata persentase kesalahan prediksi model yang dimodifikasi adalah sekitar 2.04%.\n",
        "Dalam kasus ini, model yang dimodifikasi memberikan performa yang lebih baik daripada model baseline. Model yang dimodifikasi memiliki nilai MAE, RMSE, dan MAPE yang lebih rendah, menunjukkan bahwa prediksi model tersebut lebih dekat dengan nilai sebenarnya pada testing set. Model baseline, di sisi lain, memiliki nilai kesalahan yang jauh lebih tinggi."
      ]
    },
    {
      "cell_type": "markdown",
      "source": [
        "References:\n",
        "* https://deallen7.medium.com/managing-date-datetime-and-timestamp-in-python-pandas-cc9d285302ab\n",
        "* https://medium.com/geekculture/8-use-cases-of-most-powerful-python-functions-apply-and-lambda-8e2d03e3e175\n",
        "* https://towardsdatascience.com/all-the-pandas-shift-you-should-know-for-data-analysis-791c1692b5e\n",
        "* https://medium.com/codestorm/pandas-reset-index-complete-guide-to-learn-python-db73551ac20d\n",
        "* https://medium.com/@riat06/basics-for-datetime-in-pandas-48f3b68b1ae6\n",
        "* https://soumenatta.medium.com/the-ultimate-guide-to-handling-missing-data-in-python-pandas-a6b0913a7cd4\n",
        "* https://medium.com/@arsalan_zafar/dates-and-time-series-in-pandas-64d7c50e9949\n",
        "* https://towardsdatascience.com/what-to-do-if-a-time-series-is-growing-but-not-in-length-421fc84c6893\n",
        "* https://towardsdatascience.com/dropout-in-neural-networks-47a162d621d9\n",
        "* https://keras.io/api/layers/regularization_layers/dropout/\n",
        "* https://machinelearningmastery.com/dropout-regularization-deep-learning-models-keras/\n",
        "* Xiao, M., Wu, Y., Zuo, G., Fan, S., Yu, H., Shaikh, Z.A., & Wen, Z. (2021). Addressing Overfitting Problem in Deep Learning-Based Solutions for Next Generation Data-Driven Networks. Wirel. Commun. Mob. Comput., 2021, 8493795:1-8493795:10.\n",
        "* Wegayehu, E.B., & Muluneh, F.B. (2022). Short-Term Daily Univariate Streamflow Forecasting Using Deep Learning Models. Advances in Meteorology.\n",
        "* Orochi, O.P., & Kabari, L. (2021). Predicting Stock Price in Python Using Tensor Flow and Keras. International Journal of Research and Scientific Innovation.\n",
        "\n"
      ],
      "metadata": {
        "id": "6fROE-YwYouZ"
      }
    }
  ],
  "metadata": {
    "accelerator": "GPU",
    "colab": {
      "gpuType": "T4",
      "provenance": []
    },
    "kernelspec": {
      "display_name": "Python 3",
      "name": "python3"
    },
    "language_info": {
      "name": "python"
    }
  },
  "nbformat": 4,
  "nbformat_minor": 0
}